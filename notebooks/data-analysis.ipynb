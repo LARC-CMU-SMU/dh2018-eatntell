{
 "cells": [
  {
   "cell_type": "markdown",
   "metadata": {},
   "source": [
    "# Effects of Random-Loss Incentive on Self-Tracking Compliance\n",
    "\n",
    "This notebook shows steps used for reproducing results and figures in the paper:\n",
    "\n",
    "Achananuparp, P., Lim, E.-P., Abhishek, V., & Yun, T. (2018). Eat & Tell: A Randomized Trial of Random-Loss Incentive to Increase Dietary Self-Tracking Compliance. In Proceedings of the 2018 International Conference on Digital Health - DH ’18. https://doi.org/10.1145/3194658.3194662\n",
    "\n",
    "It consists of the following sections:\n",
    "\n",
    "* Exploratory data analysis\n",
    "* Hypothesis testing\n",
    "* Mixed effects logistic regression\n",
    "* Pre/post-intervention food logging statistics\n",
    "\n",
    "It should take approximately 5 minutes to run on an Intel Core i5-7200U machine with 8GB of RAM."
   ]
  },
  {
   "cell_type": "code",
   "execution_count": 1,
   "metadata": {},
   "outputs": [],
   "source": [
    "options(warn=-1)\n",
    "t0 <- proc.time()"
   ]
  },
  {
   "cell_type": "markdown",
   "metadata": {},
   "source": [
    "## 1. Loading packages and data"
   ]
  },
  {
   "cell_type": "code",
   "execution_count": 2,
   "metadata": {},
   "outputs": [
    {
     "name": "stderr",
     "output_type": "stream",
     "text": [
      "Loading required package: carData\n",
      "lattice theme set by effectsTheme()\n",
      "See ?effectsTheme for details.\n",
      "\n",
      "Attaching package: ‘dplyr’\n",
      "\n",
      "The following objects are masked from ‘package:stats’:\n",
      "\n",
      "    filter, lag\n",
      "\n",
      "The following objects are masked from ‘package:base’:\n",
      "\n",
      "    intersect, setdiff, setequal, union\n",
      "\n",
      "Loading required package: Matrix\n"
     ]
    },
    {
     "name": "stdout",
     "output_type": "stream",
     "text": [
      "[1] \"Done\"\n"
     ]
    }
   ],
   "source": [
    "library(effects)\n",
    "library(dplyr)\n",
    "library(ggplot2)\n",
    "library(lme4)\n",
    "\n",
    "users_df <- read.csv(\"../data/users.csv\")\n",
    "demos_df <- read.csv(\"../data/demos.csv\")\n",
    "deducs_df <- read.csv(\"../data/deductions.csv\")\n",
    "deducs_df$weekday <- weekdays(as.Date(deducs_df$task_date))\n",
    "eod_df <- read.csv(\"../data/end-of-days.csv\")\n",
    "deducs_7d_df <- read.csv(\"../data/deductions_7d.csv\")\n",
    "eod_7d_df <- read.csv(\"../data/end-of-days_7d.csv\")\n",
    "pre_diary_df <- read.csv(\"../data/pre_food_diaries.csv\")\n",
    "pre_diary_df <- summarize(group_by(pre_diary_df, user_id), prior_diary_days=n_distinct(diary_date))\n",
    "post_diary_df <- read.csv(\"../data/post_food_diaries.csv\")\n",
    "post_diary_df <- summarize(group_by(post_diary_df, user_id), post_diary_days=n_distinct(diary_date))\n",
    "post_diary_df$post_diary_days[post_diary_df$post_diary_days>30] <- 30\n",
    "\n",
    "complete_rates <- summarize(group_by(filter(deducs_df, day_index >= 1 & day_index <= 30), user_id), completed_days=sum(complete_flag), completion_rate=mean(complete_flag))\n",
    "complete_rates <- merge(complete_rates, users_df)\n",
    "\n",
    "print(\"Done\")"
   ]
  },
  {
   "cell_type": "markdown",
   "metadata": {},
   "source": [
    "## 2. Exploratory data analysis"
   ]
  },
  {
   "cell_type": "markdown",
   "metadata": {},
   "source": [
    "### Data characterisics. \n",
    "\n",
    "Table 1 in the paper."
   ]
  },
  {
   "cell_type": "code",
   "execution_count": 3,
   "metadata": {},
   "outputs": [
    {
     "data": {
      "text/html": [
       "245"
      ],
      "text/latex": [
       "245"
      ],
      "text/markdown": [
       "245"
      ],
      "text/plain": [
       "[1] 245"
      ]
     },
     "metadata": {},
     "output_type": "display_data"
    },
    {
     "data": {
      "text/html": [
       "204"
      ],
      "text/latex": [
       "204"
      ],
      "text/markdown": [
       "204"
      ],
      "text/plain": [
       "[1] 204"
      ]
     },
     "metadata": {},
     "output_type": "display_data"
    },
    {
     "data": {
      "text/html": [
       "<table>\n",
       "<thead><tr><th scope=col>gender</th><th scope=col>experiment_id</th><th scope=col>n</th></tr></thead>\n",
       "<tbody>\n",
       "\t<tr><td>female</td><td>Fixed </td><td>66    </td></tr>\n",
       "\t<tr><td>female</td><td>Random</td><td>85    </td></tr>\n",
       "\t<tr><td>male  </td><td>Fixed </td><td>22    </td></tr>\n",
       "\t<tr><td>male  </td><td>Random</td><td>31    </td></tr>\n",
       "</tbody>\n",
       "</table>\n"
      ],
      "text/latex": [
       "\\begin{tabular}{r|lll}\n",
       " gender & experiment\\_id & n\\\\\n",
       "\\hline\n",
       "\t female & Fixed  & 66    \\\\\n",
       "\t female & Random & 85    \\\\\n",
       "\t male   & Fixed  & 22    \\\\\n",
       "\t male   & Random & 31    \\\\\n",
       "\\end{tabular}\n"
      ],
      "text/markdown": [
       "\n",
       "gender | experiment_id | n | \n",
       "|---|---|---|---|\n",
       "| female | Fixed  | 66     | \n",
       "| female | Random | 85     | \n",
       "| male   | Fixed  | 22     | \n",
       "| male   | Random | 31     | \n",
       "\n",
       "\n"
      ],
      "text/plain": [
       "  gender experiment_id n \n",
       "1 female Fixed         66\n",
       "2 female Random        85\n",
       "3 male   Fixed         22\n",
       "4 male   Random        31"
      ]
     },
     "metadata": {},
     "output_type": "display_data"
    },
    {
     "data": {
      "text/html": [
       "<table>\n",
       "<thead><tr><th scope=col>age_range</th><th scope=col>experiment_id</th><th scope=col>n</th></tr></thead>\n",
       "<tbody>\n",
       "\t<tr><td>(17,24]</td><td>Fixed  </td><td>22     </td></tr>\n",
       "\t<tr><td>(17,24]</td><td>Random </td><td>19     </td></tr>\n",
       "\t<tr><td>NA     </td><td>Fixed  </td><td>66     </td></tr>\n",
       "\t<tr><td>NA     </td><td>Random </td><td>97     </td></tr>\n",
       "</tbody>\n",
       "</table>\n"
      ],
      "text/latex": [
       "\\begin{tabular}{r|lll}\n",
       " age\\_range & experiment\\_id & n\\\\\n",
       "\\hline\n",
       "\t (17,24{]} & Fixed     & 22       \\\\\n",
       "\t (17,24{]} & Random    & 19       \\\\\n",
       "\t NA      & Fixed   & 66     \\\\\n",
       "\t NA      & Random  & 97     \\\\\n",
       "\\end{tabular}\n"
      ],
      "text/markdown": [
       "\n",
       "age_range | experiment_id | n | \n",
       "|---|---|---|---|\n",
       "| (17,24] | Fixed   | 22      | \n",
       "| (17,24] | Random  | 19      | \n",
       "| NA      | Fixed   | 66      | \n",
       "| NA      | Random  | 97      | \n",
       "\n",
       "\n"
      ],
      "text/plain": [
       "  age_range experiment_id n \n",
       "1 (17,24]   Fixed         22\n",
       "2 (17,24]   Random        19\n",
       "3 NA        Fixed         66\n",
       "4 NA        Random        97"
      ]
     },
     "metadata": {},
     "output_type": "display_data"
    },
    {
     "data": {
      "text/html": [
       "<table>\n",
       "<thead><tr><th scope=col>age_range</th><th scope=col>experiment_id</th><th scope=col>n</th></tr></thead>\n",
       "<tbody>\n",
       "\t<tr><td>(24,34]</td><td>Fixed  </td><td>40     </td></tr>\n",
       "\t<tr><td>(24,34]</td><td>Random </td><td>55     </td></tr>\n",
       "\t<tr><td>NA     </td><td>Fixed  </td><td>48     </td></tr>\n",
       "\t<tr><td>NA     </td><td>Random </td><td>61     </td></tr>\n",
       "</tbody>\n",
       "</table>\n"
      ],
      "text/latex": [
       "\\begin{tabular}{r|lll}\n",
       " age\\_range & experiment\\_id & n\\\\\n",
       "\\hline\n",
       "\t (24,34{]} & Fixed     & 40       \\\\\n",
       "\t (24,34{]} & Random    & 55       \\\\\n",
       "\t NA      & Fixed   & 48     \\\\\n",
       "\t NA      & Random  & 61     \\\\\n",
       "\\end{tabular}\n"
      ],
      "text/markdown": [
       "\n",
       "age_range | experiment_id | n | \n",
       "|---|---|---|---|\n",
       "| (24,34] | Fixed   | 40      | \n",
       "| (24,34] | Random  | 55      | \n",
       "| NA      | Fixed   | 48      | \n",
       "| NA      | Random  | 61      | \n",
       "\n",
       "\n"
      ],
      "text/plain": [
       "  age_range experiment_id n \n",
       "1 (24,34]   Fixed         40\n",
       "2 (24,34]   Random        55\n",
       "3 NA        Fixed         48\n",
       "4 NA        Random        61"
      ]
     },
     "metadata": {},
     "output_type": "display_data"
    },
    {
     "data": {
      "text/html": [
       "<table>\n",
       "<thead><tr><th scope=col>age_range</th><th scope=col>experiment_id</th><th scope=col>n</th></tr></thead>\n",
       "<tbody>\n",
       "\t<tr><td>(34,44]</td><td>Fixed  </td><td>14     </td></tr>\n",
       "\t<tr><td>(34,44]</td><td>Random </td><td>21     </td></tr>\n",
       "\t<tr><td>NA     </td><td>Fixed  </td><td>74     </td></tr>\n",
       "\t<tr><td>NA     </td><td>Random </td><td>95     </td></tr>\n",
       "</tbody>\n",
       "</table>\n"
      ],
      "text/latex": [
       "\\begin{tabular}{r|lll}\n",
       " age\\_range & experiment\\_id & n\\\\\n",
       "\\hline\n",
       "\t (34,44{]} & Fixed     & 14       \\\\\n",
       "\t (34,44{]} & Random    & 21       \\\\\n",
       "\t NA      & Fixed   & 74     \\\\\n",
       "\t NA      & Random  & 95     \\\\\n",
       "\\end{tabular}\n"
      ],
      "text/markdown": [
       "\n",
       "age_range | experiment_id | n | \n",
       "|---|---|---|---|\n",
       "| (34,44] | Fixed   | 14      | \n",
       "| (34,44] | Random  | 21      | \n",
       "| NA      | Fixed   | 74      | \n",
       "| NA      | Random  | 95      | \n",
       "\n",
       "\n"
      ],
      "text/plain": [
       "  age_range experiment_id n \n",
       "1 (34,44]   Fixed         14\n",
       "2 (34,44]   Random        21\n",
       "3 NA        Fixed         74\n",
       "4 NA        Random        95"
      ]
     },
     "metadata": {},
     "output_type": "display_data"
    },
    {
     "data": {
      "text/html": [
       "<table>\n",
       "<thead><tr><th scope=col>age_range</th><th scope=col>experiment_id</th><th scope=col>n</th></tr></thead>\n",
       "<tbody>\n",
       "\t<tr><td>(44,54]</td><td>Fixed  </td><td>  6    </td></tr>\n",
       "\t<tr><td>(44,54]</td><td>Random </td><td>  6    </td></tr>\n",
       "\t<tr><td>NA     </td><td>Fixed  </td><td> 82    </td></tr>\n",
       "\t<tr><td>NA     </td><td>Random </td><td>110    </td></tr>\n",
       "</tbody>\n",
       "</table>\n"
      ],
      "text/latex": [
       "\\begin{tabular}{r|lll}\n",
       " age\\_range & experiment\\_id & n\\\\\n",
       "\\hline\n",
       "\t (44,54{]} & Fixed     &   6      \\\\\n",
       "\t (44,54{]} & Random    &   6      \\\\\n",
       "\t NA      & Fixed   &  82    \\\\\n",
       "\t NA      & Random  & 110    \\\\\n",
       "\\end{tabular}\n"
      ],
      "text/markdown": [
       "\n",
       "age_range | experiment_id | n | \n",
       "|---|---|---|---|\n",
       "| (44,54] | Fixed   |   6     | \n",
       "| (44,54] | Random  |   6     | \n",
       "| NA      | Fixed   |  82     | \n",
       "| NA      | Random  | 110     | \n",
       "\n",
       "\n"
      ],
      "text/plain": [
       "  age_range experiment_id n  \n",
       "1 (44,54]   Fixed           6\n",
       "2 (44,54]   Random          6\n",
       "3 NA        Fixed          82\n",
       "4 NA        Random        110"
      ]
     },
     "metadata": {},
     "output_type": "display_data"
    },
    {
     "data": {
      "text/html": [
       "<table>\n",
       "<thead><tr><th scope=col>age_range</th><th scope=col>experiment_id</th><th scope=col>n</th></tr></thead>\n",
       "<tbody>\n",
       "\t<tr><td>(54,64]</td><td>Random </td><td>  3    </td></tr>\n",
       "\t<tr><td>NA     </td><td>Fixed  </td><td> 88    </td></tr>\n",
       "\t<tr><td>NA     </td><td>Random </td><td>113    </td></tr>\n",
       "</tbody>\n",
       "</table>\n"
      ],
      "text/latex": [
       "\\begin{tabular}{r|lll}\n",
       " age\\_range & experiment\\_id & n\\\\\n",
       "\\hline\n",
       "\t (54,64{]} & Random    &   3      \\\\\n",
       "\t NA      & Fixed   &  88    \\\\\n",
       "\t NA      & Random  & 113    \\\\\n",
       "\\end{tabular}\n"
      ],
      "text/markdown": [
       "\n",
       "age_range | experiment_id | n | \n",
       "|---|---|---|\n",
       "| (54,64] | Random  |   3     | \n",
       "| NA      | Fixed   |  88     | \n",
       "| NA      | Random  | 113     | \n",
       "\n",
       "\n"
      ],
      "text/plain": [
       "  age_range experiment_id n  \n",
       "1 (54,64]   Random          3\n",
       "2 NA        Fixed          88\n",
       "3 NA        Random        113"
      ]
     },
     "metadata": {},
     "output_type": "display_data"
    },
    {
     "data": {
      "text/html": [
       "<table>\n",
       "<thead><tr><th scope=col>age_range</th><th scope=col>experiment_id</th><th scope=col>n</th></tr></thead>\n",
       "<tbody>\n",
       "\t<tr><td>(64,74]</td><td>Random </td><td>  1    </td></tr>\n",
       "\t<tr><td>NA     </td><td>Fixed  </td><td> 88    </td></tr>\n",
       "\t<tr><td>NA     </td><td>Random </td><td>115    </td></tr>\n",
       "</tbody>\n",
       "</table>\n"
      ],
      "text/latex": [
       "\\begin{tabular}{r|lll}\n",
       " age\\_range & experiment\\_id & n\\\\\n",
       "\\hline\n",
       "\t (64,74{]} & Random    &   1      \\\\\n",
       "\t NA      & Fixed   &  88    \\\\\n",
       "\t NA      & Random  & 115    \\\\\n",
       "\\end{tabular}\n"
      ],
      "text/markdown": [
       "\n",
       "age_range | experiment_id | n | \n",
       "|---|---|---|\n",
       "| (64,74] | Random  |   1     | \n",
       "| NA      | Fixed   |  88     | \n",
       "| NA      | Random  | 115     | \n",
       "\n",
       "\n"
      ],
      "text/plain": [
       "  age_range experiment_id n  \n",
       "1 (64,74]   Random          1\n",
       "2 NA        Fixed          88\n",
       "3 NA        Random        115"
      ]
     },
     "metadata": {},
     "output_type": "display_data"
    },
    {
     "data": {
      "text/html": [
       "<table>\n",
       "<thead><tr><th scope=col>ethnicity</th><th scope=col>experiment_id</th><th scope=col>n</th></tr></thead>\n",
       "<tbody>\n",
       "\t<tr><td>chinese</td><td>Fixed  </td><td> 83    </td></tr>\n",
       "\t<tr><td>chinese</td><td>Random </td><td>111    </td></tr>\n",
       "\t<tr><td>indian </td><td>Fixed  </td><td>  4    </td></tr>\n",
       "\t<tr><td>indian </td><td>Random </td><td>  3    </td></tr>\n",
       "\t<tr><td>malay  </td><td>Random </td><td>  1    </td></tr>\n",
       "\t<tr><td>others </td><td>Fixed  </td><td>  1    </td></tr>\n",
       "\t<tr><td>others </td><td>Random </td><td>  1    </td></tr>\n",
       "</tbody>\n",
       "</table>\n"
      ],
      "text/latex": [
       "\\begin{tabular}{r|lll}\n",
       " ethnicity & experiment\\_id & n\\\\\n",
       "\\hline\n",
       "\t chinese & Fixed   &  83    \\\\\n",
       "\t chinese & Random  & 111    \\\\\n",
       "\t indian  & Fixed   &   4    \\\\\n",
       "\t indian  & Random  &   3    \\\\\n",
       "\t malay   & Random  &   1    \\\\\n",
       "\t others  & Fixed   &   1    \\\\\n",
       "\t others  & Random  &   1    \\\\\n",
       "\\end{tabular}\n"
      ],
      "text/markdown": [
       "\n",
       "ethnicity | experiment_id | n | \n",
       "|---|---|---|---|---|---|---|\n",
       "| chinese | Fixed   |  83     | \n",
       "| chinese | Random  | 111     | \n",
       "| indian  | Fixed   |   4     | \n",
       "| indian  | Random  |   3     | \n",
       "| malay   | Random  |   1     | \n",
       "| others  | Fixed   |   1     | \n",
       "| others  | Random  |   1     | \n",
       "\n",
       "\n"
      ],
      "text/plain": [
       "  ethnicity experiment_id n  \n",
       "1 chinese   Fixed          83\n",
       "2 chinese   Random        111\n",
       "3 indian    Fixed           4\n",
       "4 indian    Random          3\n",
       "5 malay     Random          1\n",
       "6 others    Fixed           1\n",
       "7 others    Random          1"
      ]
     },
     "metadata": {},
     "output_type": "display_data"
    },
    {
     "data": {
      "text/html": [
       "<table>\n",
       "<thead><tr><th scope=col>education</th><th scope=col>experiment_id</th><th scope=col>n</th></tr></thead>\n",
       "<tbody>\n",
       "\t<tr><td>i-prefer-not-to-say                 </td><td>Random                              </td><td> 3                                  </td></tr>\n",
       "\t<tr><td>ite-and-other-vocational-certificate</td><td>Fixed                               </td><td> 4                                  </td></tr>\n",
       "\t<tr><td>ite-and-other-vocational-certificate</td><td>Random                              </td><td> 1                                  </td></tr>\n",
       "\t<tr><td>junior-college                      </td><td>Fixed                               </td><td> 5                                  </td></tr>\n",
       "\t<tr><td>junior-college                      </td><td>Random                              </td><td> 7                                  </td></tr>\n",
       "\t<tr><td>polytechnic-diploma                 </td><td>Fixed                               </td><td>14                                  </td></tr>\n",
       "\t<tr><td>polytechnic-diploma                 </td><td>Random                              </td><td>17                                  </td></tr>\n",
       "\t<tr><td>secondary                           </td><td>Fixed                               </td><td> 3                                  </td></tr>\n",
       "\t<tr><td>secondary                           </td><td>Random                              </td><td> 8                                  </td></tr>\n",
       "\t<tr><td>university-or-higher                </td><td>Fixed                               </td><td>62                                  </td></tr>\n",
       "\t<tr><td>university-or-higher                </td><td>Random                              </td><td>80                                  </td></tr>\n",
       "</tbody>\n",
       "</table>\n"
      ],
      "text/latex": [
       "\\begin{tabular}{r|lll}\n",
       " education & experiment\\_id & n\\\\\n",
       "\\hline\n",
       "\t i-prefer-not-to-say                  & Random                               &  3                                  \\\\\n",
       "\t ite-and-other-vocational-certificate & Fixed                                &  4                                  \\\\\n",
       "\t ite-and-other-vocational-certificate & Random                               &  1                                  \\\\\n",
       "\t junior-college                       & Fixed                                &  5                                  \\\\\n",
       "\t junior-college                       & Random                               &  7                                  \\\\\n",
       "\t polytechnic-diploma                  & Fixed                                & 14                                  \\\\\n",
       "\t polytechnic-diploma                  & Random                               & 17                                  \\\\\n",
       "\t secondary                            & Fixed                                &  3                                  \\\\\n",
       "\t secondary                            & Random                               &  8                                  \\\\\n",
       "\t university-or-higher                 & Fixed                                & 62                                  \\\\\n",
       "\t university-or-higher                 & Random                               & 80                                  \\\\\n",
       "\\end{tabular}\n"
      ],
      "text/markdown": [
       "\n",
       "education | experiment_id | n | \n",
       "|---|---|---|---|---|---|---|---|---|---|---|\n",
       "| i-prefer-not-to-say                  | Random                               |  3                                   | \n",
       "| ite-and-other-vocational-certificate | Fixed                                |  4                                   | \n",
       "| ite-and-other-vocational-certificate | Random                               |  1                                   | \n",
       "| junior-college                       | Fixed                                |  5                                   | \n",
       "| junior-college                       | Random                               |  7                                   | \n",
       "| polytechnic-diploma                  | Fixed                                | 14                                   | \n",
       "| polytechnic-diploma                  | Random                               | 17                                   | \n",
       "| secondary                            | Fixed                                |  3                                   | \n",
       "| secondary                            | Random                               |  8                                   | \n",
       "| university-or-higher                 | Fixed                                | 62                                   | \n",
       "| university-or-higher                 | Random                               | 80                                   | \n",
       "\n",
       "\n"
      ],
      "text/plain": [
       "   education                            experiment_id n \n",
       "1  i-prefer-not-to-say                  Random         3\n",
       "2  ite-and-other-vocational-certificate Fixed          4\n",
       "3  ite-and-other-vocational-certificate Random         1\n",
       "4  junior-college                       Fixed          5\n",
       "5  junior-college                       Random         7\n",
       "6  polytechnic-diploma                  Fixed         14\n",
       "7  polytechnic-diploma                  Random        17\n",
       "8  secondary                            Fixed          3\n",
       "9  secondary                            Random         8\n",
       "10 university-or-higher                 Fixed         62\n",
       "11 university-or-higher                 Random        80"
      ]
     },
     "metadata": {},
     "output_type": "display_data"
    },
    {
     "data": {
      "text/html": [
       "<table>\n",
       "<thead><tr><th scope=col>employment</th><th scope=col>experiment_id</th><th scope=col>n</th></tr></thead>\n",
       "<tbody>\n",
       "\t<tr><td>entrepreneur        </td><td>Fixed               </td><td> 2                  </td></tr>\n",
       "\t<tr><td>entrepreneur        </td><td>Random              </td><td> 1                  </td></tr>\n",
       "\t<tr><td>full-time-employment</td><td>Fixed               </td><td>57                  </td></tr>\n",
       "\t<tr><td>full-time-employment</td><td>Random              </td><td>78                  </td></tr>\n",
       "\t<tr><td>homemaker           </td><td>Fixed               </td><td> 5                  </td></tr>\n",
       "\t<tr><td>homemaker           </td><td>Random              </td><td> 3                  </td></tr>\n",
       "\t<tr><td>i-prefer-not-to-say </td><td>Random              </td><td> 5                  </td></tr>\n",
       "\t<tr><td>others              </td><td>Fixed               </td><td> 2                  </td></tr>\n",
       "\t<tr><td>others              </td><td>Random              </td><td> 4                  </td></tr>\n",
       "\t<tr><td>part-time-employment</td><td>Fixed               </td><td> 4                  </td></tr>\n",
       "\t<tr><td>part-time-employment</td><td>Random              </td><td> 4                  </td></tr>\n",
       "\t<tr><td>retired             </td><td>Random              </td><td> 1                  </td></tr>\n",
       "\t<tr><td>student             </td><td>Fixed               </td><td>14                  </td></tr>\n",
       "\t<tr><td>student             </td><td>Random              </td><td>17                  </td></tr>\n",
       "\t<tr><td>unemployed          </td><td>Fixed               </td><td> 4                  </td></tr>\n",
       "\t<tr><td>unemployed          </td><td>Random              </td><td> 3                  </td></tr>\n",
       "</tbody>\n",
       "</table>\n"
      ],
      "text/latex": [
       "\\begin{tabular}{r|lll}\n",
       " employment & experiment\\_id & n\\\\\n",
       "\\hline\n",
       "\t entrepreneur         & Fixed                &  2                  \\\\\n",
       "\t entrepreneur         & Random               &  1                  \\\\\n",
       "\t full-time-employment & Fixed                & 57                  \\\\\n",
       "\t full-time-employment & Random               & 78                  \\\\\n",
       "\t homemaker            & Fixed                &  5                  \\\\\n",
       "\t homemaker            & Random               &  3                  \\\\\n",
       "\t i-prefer-not-to-say  & Random               &  5                  \\\\\n",
       "\t others               & Fixed                &  2                  \\\\\n",
       "\t others               & Random               &  4                  \\\\\n",
       "\t part-time-employment & Fixed                &  4                  \\\\\n",
       "\t part-time-employment & Random               &  4                  \\\\\n",
       "\t retired              & Random               &  1                  \\\\\n",
       "\t student              & Fixed                & 14                  \\\\\n",
       "\t student              & Random               & 17                  \\\\\n",
       "\t unemployed           & Fixed                &  4                  \\\\\n",
       "\t unemployed           & Random               &  3                  \\\\\n",
       "\\end{tabular}\n"
      ],
      "text/markdown": [
       "\n",
       "employment | experiment_id | n | \n",
       "|---|---|---|---|---|---|---|---|---|---|---|---|---|---|---|---|\n",
       "| entrepreneur         | Fixed                |  2                   | \n",
       "| entrepreneur         | Random               |  1                   | \n",
       "| full-time-employment | Fixed                | 57                   | \n",
       "| full-time-employment | Random               | 78                   | \n",
       "| homemaker            | Fixed                |  5                   | \n",
       "| homemaker            | Random               |  3                   | \n",
       "| i-prefer-not-to-say  | Random               |  5                   | \n",
       "| others               | Fixed                |  2                   | \n",
       "| others               | Random               |  4                   | \n",
       "| part-time-employment | Fixed                |  4                   | \n",
       "| part-time-employment | Random               |  4                   | \n",
       "| retired              | Random               |  1                   | \n",
       "| student              | Fixed                | 14                   | \n",
       "| student              | Random               | 17                   | \n",
       "| unemployed           | Fixed                |  4                   | \n",
       "| unemployed           | Random               |  3                   | \n",
       "\n",
       "\n"
      ],
      "text/plain": [
       "   employment           experiment_id n \n",
       "1  entrepreneur         Fixed          2\n",
       "2  entrepreneur         Random         1\n",
       "3  full-time-employment Fixed         57\n",
       "4  full-time-employment Random        78\n",
       "5  homemaker            Fixed          5\n",
       "6  homemaker            Random         3\n",
       "7  i-prefer-not-to-say  Random         5\n",
       "8  others               Fixed          2\n",
       "9  others               Random         4\n",
       "10 part-time-employment Fixed          4\n",
       "11 part-time-employment Random         4\n",
       "12 retired              Random         1\n",
       "13 student              Fixed         14\n",
       "14 student              Random        17\n",
       "15 unemployed           Fixed          4\n",
       "16 unemployed           Random         3"
      ]
     },
     "metadata": {},
     "output_type": "display_data"
    },
    {
     "data": {
      "text/html": [
       "<table>\n",
       "<thead><tr><th scope=col>marital</th><th scope=col>experiment_id</th><th scope=col>n</th></tr></thead>\n",
       "<tbody>\n",
       "\t<tr><td>divorced             </td><td>Random               </td><td> 2                   </td></tr>\n",
       "\t<tr><td>i-prefer-not-to-say  </td><td>Fixed                </td><td> 1                   </td></tr>\n",
       "\t<tr><td>i-prefer-not-to-say  </td><td>Random               </td><td> 3                   </td></tr>\n",
       "\t<tr><td>living-with-a-partner</td><td>Random               </td><td> 2                   </td></tr>\n",
       "\t<tr><td>married              </td><td>Fixed                </td><td>27                   </td></tr>\n",
       "\t<tr><td>married              </td><td>Random               </td><td>39                   </td></tr>\n",
       "\t<tr><td>never-been-married   </td><td>Fixed                </td><td>60                   </td></tr>\n",
       "\t<tr><td>never-been-married   </td><td>Random               </td><td>70                   </td></tr>\n",
       "</tbody>\n",
       "</table>\n"
      ],
      "text/latex": [
       "\\begin{tabular}{r|lll}\n",
       " marital & experiment\\_id & n\\\\\n",
       "\\hline\n",
       "\t divorced              & Random                &  2                   \\\\\n",
       "\t i-prefer-not-to-say   & Fixed                 &  1                   \\\\\n",
       "\t i-prefer-not-to-say   & Random                &  3                   \\\\\n",
       "\t living-with-a-partner & Random                &  2                   \\\\\n",
       "\t married               & Fixed                 & 27                   \\\\\n",
       "\t married               & Random                & 39                   \\\\\n",
       "\t never-been-married    & Fixed                 & 60                   \\\\\n",
       "\t never-been-married    & Random                & 70                   \\\\\n",
       "\\end{tabular}\n"
      ],
      "text/markdown": [
       "\n",
       "marital | experiment_id | n | \n",
       "|---|---|---|---|---|---|---|---|\n",
       "| divorced              | Random                |  2                    | \n",
       "| i-prefer-not-to-say   | Fixed                 |  1                    | \n",
       "| i-prefer-not-to-say   | Random                |  3                    | \n",
       "| living-with-a-partner | Random                |  2                    | \n",
       "| married               | Fixed                 | 27                    | \n",
       "| married               | Random                | 39                    | \n",
       "| never-been-married    | Fixed                 | 60                    | \n",
       "| never-been-married    | Random                | 70                    | \n",
       "\n",
       "\n"
      ],
      "text/plain": [
       "  marital               experiment_id n \n",
       "1 divorced              Random         2\n",
       "2 i-prefer-not-to-say   Fixed          1\n",
       "3 i-prefer-not-to-say   Random         3\n",
       "4 living-with-a-partner Random         2\n",
       "5 married               Fixed         27\n",
       "6 married               Random        39\n",
       "7 never-been-married    Fixed         60\n",
       "8 never-been-married    Random        70"
      ]
     },
     "metadata": {},
     "output_type": "display_data"
    },
    {
     "data": {
      "text/html": [
       "<table>\n",
       "<thead><tr><th scope=col>experiment_id</th><th scope=col>bmi</th></tr></thead>\n",
       "<tbody>\n",
       "\t<tr><td>Fixed   </td><td>22.49234</td></tr>\n",
       "\t<tr><td>Random  </td><td>23.15818</td></tr>\n",
       "</tbody>\n",
       "</table>\n"
      ],
      "text/latex": [
       "\\begin{tabular}{r|ll}\n",
       " experiment\\_id & bmi\\\\\n",
       "\\hline\n",
       "\t Fixed    & 22.49234\\\\\n",
       "\t Random   & 23.15818\\\\\n",
       "\\end{tabular}\n"
      ],
      "text/markdown": [
       "\n",
       "experiment_id | bmi | \n",
       "|---|---|\n",
       "| Fixed    | 22.49234 | \n",
       "| Random   | 23.15818 | \n",
       "\n",
       "\n"
      ],
      "text/plain": [
       "  experiment_id bmi     \n",
       "1 Fixed         22.49234\n",
       "2 Random        23.15818"
      ]
     },
     "metadata": {},
     "output_type": "display_data"
    },
    {
     "data": {
      "text/html": [
       "<table>\n",
       "<thead><tr><th scope=col>experiment_id</th><th scope=col>grit</th></tr></thead>\n",
       "<tbody>\n",
       "\t<tr><td>Fixed   </td><td>2.777500</td></tr>\n",
       "\t<tr><td>Random  </td><td>2.726638</td></tr>\n",
       "</tbody>\n",
       "</table>\n"
      ],
      "text/latex": [
       "\\begin{tabular}{r|ll}\n",
       " experiment\\_id & grit\\\\\n",
       "\\hline\n",
       "\t Fixed    & 2.777500\\\\\n",
       "\t Random   & 2.726638\\\\\n",
       "\\end{tabular}\n"
      ],
      "text/markdown": [
       "\n",
       "experiment_id | grit | \n",
       "|---|---|\n",
       "| Fixed    | 2.777500 | \n",
       "| Random   | 2.726638 | \n",
       "\n",
       "\n"
      ],
      "text/plain": [
       "  experiment_id grit    \n",
       "1 Fixed         2.777500\n",
       "2 Random        2.726638"
      ]
     },
     "metadata": {},
     "output_type": "display_data"
    }
   ],
   "source": [
    "nrow(users_df)\n",
    "nrow(demos_df)\n",
    "df <- merge(users_df, demos_df, x.all=TRUE)\n",
    "# gender\n",
    "summarize(group_by(df, gender, experiment_id), n=n())\n",
    "\n",
    "# age range\n",
    "df$age_range = cut(df$age, breaks=seq(17,25,by=7), right=TRUE)\n",
    "summarize(group_by(df, age_range, experiment_id), n=n())\n",
    "df$age_range = cut(df$age, breaks=seq(24,35,by=10), right=TRUE)\n",
    "summarize(group_by(df, age_range, experiment_id), n=n())\n",
    "df$age_range = cut(df$age, breaks=seq(34,45,by=10), right=TRUE)\n",
    "summarize(group_by(df, age_range, experiment_id), n=n())\n",
    "df$age_range = cut(df$age, breaks=seq(44,55,by=10), right=TRUE)\n",
    "summarize(group_by(df, age_range, experiment_id), n=n())\n",
    "df$age_range = cut(df$age, breaks=seq(54,65,by=10), right=TRUE)\n",
    "summarize(group_by(df, age_range, experiment_id), n=n())\n",
    "df$age_range = cut(df$age, breaks=seq(64,75,by=10), right=TRUE)\n",
    "summarize(group_by(df, age_range, experiment_id), n=n())\n",
    "\n",
    "# ethnicity, education, employment, marital status\n",
    "summarize(group_by(df, ethnicity, experiment_id), n=n())\n",
    "summarize(group_by(df, education, experiment_id), n=n())\n",
    "summarize(group_by(df, employment, experiment_id), n=n())\n",
    "summarize(group_by(df, marital, experiment_id), n=n())\n",
    "\n",
    "# bmi and grit scores\n",
    "summarize(group_by(filter(df, !is.na(bmi)), experiment_id), bmi=mean(bmi))\n",
    "summarize(group_by(filter(df, !is.na(grit)), experiment_id), grit=mean(grit))"
   ]
  },
  {
   "cell_type": "markdown",
   "metadata": {},
   "source": [
    "### Test of equal proportions\n",
    "\n",
    "Equal proportions of __male/female users__ in the treatment and control groups ($\\chi^2$=0.07735, p=0.7809)"
   ]
  },
  {
   "cell_type": "code",
   "execution_count": 4,
   "metadata": {},
   "outputs": [
    {
     "data": {
      "text/plain": [
       "\n",
       "\t2-sample test for equality of proportions without continuity\n",
       "\tcorrection\n",
       "\n",
       "data:  c(111, 91) out of c(135, 110)\n",
       "X-squared = 0.010684, df = 1, p-value = 0.9177\n",
       "alternative hypothesis: two.sided\n",
       "95 percent confidence interval:\n",
       " -0.10070368  0.09060267\n",
       "sample estimates:\n",
       "   prop 1    prop 2 \n",
       "0.8222222 0.8272727 \n"
      ]
     },
     "metadata": {},
     "output_type": "display_data"
    },
    {
     "data": {
      "text/plain": [
       "        \n",
       "         female male\n",
       "  Fixed      66   22\n",
       "  Random     85   31"
      ]
     },
     "metadata": {},
     "output_type": "display_data"
    },
    {
     "data": {
      "text/plain": [
       "\n",
       "\t2-sample test for equality of proportions without continuity\n",
       "\tcorrection\n",
       "\n",
       "data:  tab\n",
       "X-squared = 0.07735, df = 1, p-value = 0.7809\n",
       "alternative hypothesis: two.sided\n",
       "95 percent confidence interval:\n",
       " -0.1038777  0.1383604\n",
       "sample estimates:\n",
       "   prop 1    prop 2 \n",
       "0.7500000 0.7327586 \n"
      ]
     },
     "metadata": {},
     "output_type": "display_data"
    }
   ],
   "source": [
    "prop.test(c(111,91), c(135,110), correct=FALSE) # intervention participants, treatment vs control\n",
    "\n",
    "# male ratio, treatment vs. control\n",
    "df <- merge(users_df, demos_df, x.all=TRUE)\n",
    "tab <- table(df$experiment_id, df$gender)\n",
    "tab\n",
    "prop.test(tab, correct=FALSE)"
   ]
  },
  {
   "cell_type": "markdown",
   "metadata": {},
   "source": [
    "Equal proportions of __full/partial compliant users__ in the treatment and control groups ($\\chi^2$=0.010684, p=0.9177)"
   ]
  },
  {
   "cell_type": "code",
   "execution_count": 5,
   "metadata": {},
   "outputs": [
    {
     "data": {
      "text/plain": [
       "        \n",
       "         FullC PartialC\n",
       "  Fixed     19       91\n",
       "  Random    24      111"
      ]
     },
     "metadata": {},
     "output_type": "display_data"
    },
    {
     "data": {
      "text/plain": [
       "\n",
       "\t2-sample test for equality of proportions without continuity\n",
       "\tcorrection\n",
       "\n",
       "data:  tab\n",
       "X-squared = 0.010684, df = 1, p-value = 0.9177\n",
       "alternative hypothesis: two.sided\n",
       "95 percent confidence interval:\n",
       " -0.10070368  0.09060267\n",
       "sample estimates:\n",
       "   prop 1    prop 2 \n",
       "0.1727273 0.1777778 \n"
      ]
     },
     "metadata": {},
     "output_type": "display_data"
    }
   ],
   "source": [
    "df <- merge(users_df, complete_rates, x.all=TRUE)\n",
    "df$compliance <- \"FullC\"\n",
    "df$compliance[df$completed_days<30] <- \"PartialC\" \n",
    "tab <- table(df$experiment_id, df$compliance)\n",
    "tab\n",
    "prop.test(tab, correct=FALSE)"
   ]
  },
  {
   "cell_type": "markdown",
   "metadata": {},
   "source": [
    "### Distribution of random losses\n",
    "\n",
    "Figure 2 in the paper."
   ]
  },
  {
   "cell_type": "code",
   "execution_count": 6,
   "metadata": {},
   "outputs": [
    {
     "data": {
      "text/html": [
       "<table>\n",
       "<thead><tr><th scope=col>mean</th><th scope=col>sd</th></tr></thead>\n",
       "<tbody>\n",
       "\t<tr><td>0.9983395</td><td>0.5837584</td></tr>\n",
       "</tbody>\n",
       "</table>\n"
      ],
      "text/latex": [
       "\\begin{tabular}{r|ll}\n",
       " mean & sd\\\\\n",
       "\\hline\n",
       "\t 0.9983395 & 0.5837584\\\\\n",
       "\\end{tabular}\n"
      ],
      "text/markdown": [
       "\n",
       "mean | sd | \n",
       "|---|\n",
       "| 0.9983395 | 0.5837584 | \n",
       "\n",
       "\n"
      ],
      "text/plain": [
       "  mean      sd       \n",
       "1 0.9983395 0.5837584"
      ]
     },
     "metadata": {},
     "output_type": "display_data"
    },
    {
     "data": {},
     "metadata": {},
     "output_type": "display_data"
    },
    {
     "data": {
      "image/png": "[encoded data removed]",
      "text/plain": [
       "plot without title"
      ]
     },
     "metadata": {},
     "output_type": "display_data"
    }
   ],
   "source": [
    "losses_df <- read.csv(\"../data/deduction_amounts.csv\")\n",
    "summarize(filter(losses_df, experiment_id==\"Random\"), mean=mean(amount), sd=sd(amount))\n",
    "options(repr.plot.width=3, repr.plot.height=2)\n",
    "p1 <- ggplot(filter(losses_df, experiment_id==\"Random\"), aes(x=amount)) +\n",
    "    geom_histogram(binwidth=0.1) +\n",
    "    scale_x_continuous(name=\"Daily deduction (S$)\") +\n",
    "    scale_y_continuous(name=\"Count\") +\n",
    "    theme(plot.margin = unit(c(6,0,6,0), \"pt\")) +\n",
    "    theme_bw()\n",
    "p1\n",
    "ggsave(\"../reports/figures/hist_losses.pdf\", width=3, height=2, units='in', device = cairo_pdf)"
   ]
  },
  {
   "cell_type": "markdown",
   "metadata": {},
   "source": [
    "### Distributions of caloric intake and dairy entries\n",
    "Figures 3 and 4 in the paper."
   ]
  },
  {
   "cell_type": "code",
   "execution_count": 7,
   "metadata": {},
   "outputs": [],
   "source": [
    "diaries_df <- read.csv(\"../data/food_diaries.csv\")\n",
    "user_cals_data <- summarize(group_by(diaries_df, user_id, diary_date), sum_cal=sum(calories))\n",
    "user_entries_data <- summarize(group_by(diaries_df, user_id, diary_date), nrows=n())"
   ]
  },
  {
   "cell_type": "code",
   "execution_count": 8,
   "metadata": {},
   "outputs": [],
   "source": [
    "user_cals_data <- merge(user_cals_data, users_df, by=\"user_id\")\n",
    "user_entries_data <- merge(user_entries_data, users_df, by=\"user_id\")"
   ]
  },
  {
   "cell_type": "code",
   "execution_count": 9,
   "metadata": {},
   "outputs": [
    {
     "data": {
      "text/html": [
       "<table>\n",
       "<thead><tr><th scope=col>user_id</th><th scope=col>diary_date</th><th scope=col>sum_cal</th><th scope=col>end_date</th><th scope=col>experiment_id</th><th scope=col>food_journal_app</th><th scope=col>username</th></tr></thead>\n",
       "<tbody>\n",
       "\t<tr><td>43          </td><td>2017-06-12  </td><td>119705      </td><td>2017-07-08  </td><td>Random      </td><td>MyFitnessPal</td><td>user_43     </td></tr>\n",
       "\t<tr><td>43          </td><td>2017-06-14  </td><td>119340      </td><td>2017-07-08  </td><td>Random      </td><td>MyFitnessPal</td><td>user_43     </td></tr>\n",
       "\t<tr><td>43          </td><td>2017-06-21  </td><td>119340      </td><td>2017-07-08  </td><td>Random      </td><td>MyFitnessPal</td><td>user_43     </td></tr>\n",
       "</tbody>\n",
       "</table>\n"
      ],
      "text/latex": [
       "\\begin{tabular}{r|lllllll}\n",
       " user\\_id & diary\\_date & sum\\_cal & end\\_date & experiment\\_id & food\\_journal\\_app & username\\\\\n",
       "\\hline\n",
       "\t 43           & 2017-06-12   & 119705       & 2017-07-08   & Random       & MyFitnessPal & user\\_43   \\\\\n",
       "\t 43           & 2017-06-14   & 119340       & 2017-07-08   & Random       & MyFitnessPal & user\\_43   \\\\\n",
       "\t 43           & 2017-06-21   & 119340       & 2017-07-08   & Random       & MyFitnessPal & user\\_43   \\\\\n",
       "\\end{tabular}\n"
      ],
      "text/markdown": [
       "\n",
       "user_id | diary_date | sum_cal | end_date | experiment_id | food_journal_app | username | \n",
       "|---|---|---|\n",
       "| 43           | 2017-06-12   | 119705       | 2017-07-08   | Random       | MyFitnessPal | user_43      | \n",
       "| 43           | 2017-06-14   | 119340       | 2017-07-08   | Random       | MyFitnessPal | user_43      | \n",
       "| 43           | 2017-06-21   | 119340       | 2017-07-08   | Random       | MyFitnessPal | user_43      | \n",
       "\n",
       "\n"
      ],
      "text/plain": [
       "  user_id diary_date sum_cal end_date   experiment_id food_journal_app username\n",
       "1 43      2017-06-12 119705  2017-07-08 Random        MyFitnessPal     user_43 \n",
       "2 43      2017-06-14 119340  2017-07-08 Random        MyFitnessPal     user_43 \n",
       "3 43      2017-06-21 119340  2017-07-08 Random        MyFitnessPal     user_43 "
      ]
     },
     "metadata": {},
     "output_type": "display_data"
    },
    {
     "data": {
      "text/html": [
       "<table>\n",
       "<thead><tr><th scope=col>experiment_id</th><th scope=col>mean_cal</th><th scope=col>median_cal</th><th scope=col>sd_cal</th><th scope=col>max_cal</th></tr></thead>\n",
       "<tbody>\n",
       "\t<tr><td>Fixed   </td><td>1263.051</td><td>1258    </td><td>492.3983</td><td>3529    </td></tr>\n",
       "\t<tr><td>Random  </td><td>1249.046</td><td>1226    </td><td>520.1429</td><td>3531    </td></tr>\n",
       "</tbody>\n",
       "</table>\n"
      ],
      "text/latex": [
       "\\begin{tabular}{r|lllll}\n",
       " experiment\\_id & mean\\_cal & median\\_cal & sd\\_cal & max\\_cal\\\\\n",
       "\\hline\n",
       "\t Fixed    & 1263.051 & 1258     & 492.3983 & 3529    \\\\\n",
       "\t Random   & 1249.046 & 1226     & 520.1429 & 3531    \\\\\n",
       "\\end{tabular}\n"
      ],
      "text/markdown": [
       "\n",
       "experiment_id | mean_cal | median_cal | sd_cal | max_cal | \n",
       "|---|---|\n",
       "| Fixed    | 1263.051 | 1258     | 492.3983 | 3529     | \n",
       "| Random   | 1249.046 | 1226     | 520.1429 | 3531     | \n",
       "\n",
       "\n"
      ],
      "text/plain": [
       "  experiment_id mean_cal median_cal sd_cal   max_cal\n",
       "1 Fixed         1263.051 1258       492.3983 3529   \n",
       "2 Random        1249.046 1226       520.1429 3531   "
      ]
     },
     "metadata": {},
     "output_type": "display_data"
    },
    {
     "data": {
      "text/html": [
       "<table>\n",
       "<thead><tr><th scope=col>mean_cal</th><th scope=col>median_cal</th><th scope=col>sd_cal</th><th scope=col>max_cal</th></tr></thead>\n",
       "<tbody>\n",
       "\t<tr><td>1254.849</td><td>1239    </td><td>508.8259</td><td>3531    </td></tr>\n",
       "</tbody>\n",
       "</table>\n"
      ],
      "text/latex": [
       "\\begin{tabular}{r|llll}\n",
       " mean\\_cal & median\\_cal & sd\\_cal & max\\_cal\\\\\n",
       "\\hline\n",
       "\t 1254.849 & 1239     & 508.8259 & 3531    \\\\\n",
       "\\end{tabular}\n"
      ],
      "text/markdown": [
       "\n",
       "mean_cal | median_cal | sd_cal | max_cal | \n",
       "|---|\n",
       "| 1254.849 | 1239     | 508.8259 | 3531     | \n",
       "\n",
       "\n"
      ],
      "text/plain": [
       "  mean_cal median_cal sd_cal   max_cal\n",
       "1 1254.849 1239       508.8259 3531   "
      ]
     },
     "metadata": {},
     "output_type": "display_data"
    },
    {
     "data": {
      "text/html": [
       "<table>\n",
       "<thead><tr><th scope=col>experiment_id</th><th scope=col>mean_nrows</th><th scope=col>median_nrows</th><th scope=col>sd_nrows</th><th scope=col>max_nrows</th></tr></thead>\n",
       "<tbody>\n",
       "\t<tr><td>Fixed   </td><td>5.805970</td><td>5       </td><td>3.377106</td><td>26      </td></tr>\n",
       "\t<tr><td>Random  </td><td>6.234529</td><td>6       </td><td>3.808028</td><td>25      </td></tr>\n",
       "</tbody>\n",
       "</table>\n"
      ],
      "text/latex": [
       "\\begin{tabular}{r|lllll}\n",
       " experiment\\_id & mean\\_nrows & median\\_nrows & sd\\_nrows & max\\_nrows\\\\\n",
       "\\hline\n",
       "\t Fixed    & 5.805970 & 5        & 3.377106 & 26      \\\\\n",
       "\t Random   & 6.234529 & 6        & 3.808028 & 25      \\\\\n",
       "\\end{tabular}\n"
      ],
      "text/markdown": [
       "\n",
       "experiment_id | mean_nrows | median_nrows | sd_nrows | max_nrows | \n",
       "|---|---|\n",
       "| Fixed    | 5.805970 | 5        | 3.377106 | 26       | \n",
       "| Random   | 6.234529 | 6        | 3.808028 | 25       | \n",
       "\n",
       "\n"
      ],
      "text/plain": [
       "  experiment_id mean_nrows median_nrows sd_nrows max_nrows\n",
       "1 Fixed         5.805970   5            3.377106 26       \n",
       "2 Random        6.234529   6            3.808028 25       "
      ]
     },
     "metadata": {},
     "output_type": "display_data"
    },
    {
     "data": {
      "text/html": [
       "<table>\n",
       "<thead><tr><th scope=col>mean_nrows</th><th scope=col>median_nrows</th><th scope=col>sd_nrows</th><th scope=col>max_nrows</th></tr></thead>\n",
       "<tbody>\n",
       "\t<tr><td>6.057066</td><td>5       </td><td>3.641553</td><td>26      </td></tr>\n",
       "</tbody>\n",
       "</table>\n"
      ],
      "text/latex": [
       "\\begin{tabular}{r|llll}\n",
       " mean\\_nrows & median\\_nrows & sd\\_nrows & max\\_nrows\\\\\n",
       "\\hline\n",
       "\t 6.057066 & 5        & 3.641553 & 26      \\\\\n",
       "\\end{tabular}\n"
      ],
      "text/markdown": [
       "\n",
       "mean_nrows | median_nrows | sd_nrows | max_nrows | \n",
       "|---|\n",
       "| 6.057066 | 5        | 3.641553 | 26       | \n",
       "\n",
       "\n"
      ],
      "text/plain": [
       "  mean_nrows median_nrows sd_nrows max_nrows\n",
       "1 6.057066   5            3.641553 26       "
      ]
     },
     "metadata": {},
     "output_type": "display_data"
    },
    {
     "data": {
      "text/html": [
       "0.147919241862382"
      ],
      "text/latex": [
       "0.147919241862382"
      ],
      "text/markdown": [
       "0.147919241862382"
      ],
      "text/plain": [
       "[1] 0.1479192"
      ]
     },
     "metadata": {},
     "output_type": "display_data"
    },
    {
     "data": {
      "text/plain": [
       "\n",
       "\tWelch Two Sample t-test\n",
       "\n",
       "data:  sum_cal by experiment_id\n",
       "t = 0.95324, df = 4464.8, p-value = 0.3405\n",
       "alternative hypothesis: true difference in means is not equal to 0\n",
       "95 percent confidence interval:\n",
       " -14.79862  42.80860\n",
       "sample estimates:\n",
       " mean in group Fixed mean in group Random \n",
       "            1263.051             1249.046 \n"
      ]
     },
     "metadata": {},
     "output_type": "display_data"
    },
    {
     "data": {
      "text/plain": [
       "\n",
       "\tWilcoxon rank sum test with continuity correction\n",
       "\n",
       "data:  nrows by experiment_id\n",
       "W = 2704500, p-value = 0.00131\n",
       "alternative hypothesis: true location shift is not equal to 0\n"
      ]
     },
     "metadata": {},
     "output_type": "display_data"
    },
    {
     "data": {},
     "metadata": {},
     "output_type": "display_data"
    },
    {
     "data": {},
     "metadata": {},
     "output_type": "display_data"
    },
    {
     "data": {
      "image/png": "[encoded data removed]",
      "text/plain": [
       "plot without title"
      ]
     },
     "metadata": {},
     "output_type": "display_data"
    },
    {
     "data": {
      "image/png": "[encoded data removed]",
      "text/plain": [
       "plot without title"
      ]
     },
     "metadata": {},
     "output_type": "display_data"
    }
   ],
   "source": [
    "filter(user_cals_data, abs(sum_cal - median(sum_cal)) > 2*sd(sum_cal))\n",
    "user_cals_data <- filter(user_cals_data, !abs(sum_cal - median(sum_cal)) > 2*sd(sum_cal))\n",
    "summarize(group_by(user_cals_data, experiment_id), mean_cal=mean(sum_cal), median_cal=median(sum_cal), sd_cal=sd(sum_cal), max_cal=max(sum_cal))\n",
    "summarize(user_cals_data, mean_cal=mean(sum_cal), median_cal=median(sum_cal), sd_cal=sd(sum_cal), max_cal=max(sum_cal))\n",
    "summarize(group_by(user_entries_data, experiment_id), mean_nrows=mean(nrows), median_nrows=median(nrows), sd_nrows=sd(nrows), max_nrows=max(nrows))\n",
    "summarize(user_entries_data, mean_nrows=mean(nrows), median_nrows=median(nrows), sd_nrows=sd(nrows), max_nrows=max(nrows))\n",
    "# arrange(user_cals_data, desc(sum_cal))\n",
    "nrow(filter(user_entries_data, nrows>=10))/nrow(user_entries_data)\n",
    "\n",
    "t.test(sum_cal ~ experiment_id, user_cals_data, paired=FALSE) \n",
    "wilcox.test(nrows ~ experiment_id, user_entries_data, paired=FALSE)\n",
    "options(repr.plot.width=3, repr.plot.height=2)\n",
    "p1 <- ggplot(user_cals_data, aes(x=sum_cal)) + \n",
    "    geom_histogram(binwidth=100) +\n",
    "    scale_x_continuous(name=\"Calorie intake per day\") +\n",
    "    scale_y_continuous(name=\"Count\") +\n",
    "    theme(plot.margin = unit(c(6,0,6,0), \"pt\")) +\n",
    "    theme_bw()\n",
    "p1\n",
    "ggsave(\"../reports/figures/hist_calories.pdf\", width=3, height=2, units='in', device = cairo_pdf)\n",
    "p2 <- ggplot(user_entries_data, aes(x=nrows)) + \n",
    "    geom_histogram(binwidth=2) +\n",
    "    scale_x_continuous(name=\"Diary entries per day\") +\n",
    "    scale_y_continuous(name=\"Count\") +\n",
    "    theme(plot.margin = unit(c(6,0,6,0), \"pt\")) +\n",
    "    theme_bw()\n",
    "p2\n",
    "ggsave(\"../reports/figures/hist_entries.pdf\", width=3, height=2, units='in', device = cairo_pdf)"
   ]
  },
  {
   "cell_type": "markdown",
   "metadata": {},
   "source": [
    "### Distribution of compliance days\n",
    "Only include full-treatment participants who have 1 non-compliance day or more (i.e., completed_days<30). \n",
    "\n",
    "Figure 5 in the paper."
   ]
  },
  {
   "cell_type": "code",
   "execution_count": 10,
   "metadata": {},
   "outputs": [
    {
     "data": {},
     "metadata": {},
     "output_type": "display_data"
    },
    {
     "data": {
      "image/png": "[encoded data removed]",
      "text/plain": [
       "plot without title"
      ]
     },
     "metadata": {},
     "output_type": "display_data"
    }
   ],
   "source": [
    "options(repr.plot.width=3, repr.plot.height=2)\n",
    "p <- ggplot(filter(complete_rates, completed_days<30), aes(x=completed_days)) + \n",
    "    geom_histogram(binwidth=1) +\n",
    "    scale_x_continuous(name=\"Compliance (days)\") +\n",
    "    scale_y_continuous(name=\"Count\") +\n",
    "    theme(plot.margin = unit(c(6,0,6,0), \"pt\")) +\n",
    "    theme_bw()\n",
    "p\n",
    "ggsave(\"../reports/figures/hist_compliance.pdf\", width=3, height=2, units='in', device = cairo_pdf)"
   ]
  },
  {
   "cell_type": "markdown",
   "metadata": {},
   "source": [
    "Figure 6 in the paper."
   ]
  },
  {
   "cell_type": "code",
   "execution_count": 11,
   "metadata": {},
   "outputs": [
    {
     "data": {},
     "metadata": {},
     "output_type": "display_data"
    },
    {
     "data": {
      "image/png": "[encoded data removed]",
      "text/plain": [
       "plot without title"
      ]
     },
     "metadata": {},
     "output_type": "display_data"
    }
   ],
   "source": [
    "options(repr.plot.width=3, repr.plot.height=2.25)\n",
    "\n",
    "p1 <- ggplot(filter(complete_rates, completed_days < 30), aes(x=factor(experiment_id, levels=c(\"Random\", \"Fixed\")), y=completed_days)) + \n",
    "        geom_boxplot() + \n",
    "        scale_x_discrete(name=\"Experimental group\", labels=c(\"Treatment\", \"Control\")) +\n",
    "        scale_y_continuous(name=\"Compliance (days)\") +\n",
    "        theme_bw()\n",
    "p1\n",
    "ggsave(\"../reports/figures/boxplot_completion_days.pdf\", width=3, height=2.5, units='in', device = cairo_pdf)"
   ]
  },
  {
   "cell_type": "markdown",
   "metadata": {},
   "source": [
    "### Participant compliance over time\n",
    "\n",
    "Figure 7 in the paper."
   ]
  },
  {
   "cell_type": "code",
   "execution_count": 12,
   "metadata": {},
   "outputs": [],
   "source": [
    "df <- merge(deducs_df, users_df, by=\"user_id\")\n",
    "df <- merge(df, eod_df, by=c(\"user_id\", \"day_index\"), all.x=TRUE)\n",
    "# this filters out full-compliance participants\n",
    "df <- merge(df, select(filter(complete_rates, completed_days < 30), user_id, completion_rate), by=\"user_id\")"
   ]
  },
  {
   "cell_type": "code",
   "execution_count": 13,
   "metadata": {},
   "outputs": [
    {
     "data": {
      "text/html": [
       "<table>\n",
       "<thead><tr><th scope=col>experiment_id</th><th scope=col>day_index</th><th scope=col>num_completes</th><th scope=col>num_users</th><th scope=col>pct_completes</th></tr></thead>\n",
       "<tbody>\n",
       "\t<tr><td>Fixed   </td><td>30      </td><td>25      </td><td> 89     </td><td>28.08989</td></tr>\n",
       "\t<tr><td>Random  </td><td>30      </td><td>51      </td><td>111     </td><td>45.94595</td></tr>\n",
       "</tbody>\n",
       "</table>\n"
      ],
      "text/latex": [
       "\\begin{tabular}{r|lllll}\n",
       " experiment\\_id & day\\_index & num\\_completes & num\\_users & pct\\_completes\\\\\n",
       "\\hline\n",
       "\t Fixed    & 30       & 25       &  89      & 28.08989\\\\\n",
       "\t Random   & 30       & 51       & 111      & 45.94595\\\\\n",
       "\\end{tabular}\n"
      ],
      "text/markdown": [
       "\n",
       "experiment_id | day_index | num_completes | num_users | pct_completes | \n",
       "|---|---|\n",
       "| Fixed    | 30       | 25       |  89      | 28.08989 | \n",
       "| Random   | 30       | 51       | 111      | 45.94595 | \n",
       "\n",
       "\n"
      ],
      "text/plain": [
       "  experiment_id day_index num_completes num_users pct_completes\n",
       "1 Fixed         30        25             89       28.08989     \n",
       "2 Random        30        51            111       45.94595     "
      ]
     },
     "metadata": {},
     "output_type": "display_data"
    },
    {
     "data": {},
     "metadata": {},
     "output_type": "display_data"
    },
    {
     "data": {
      "image/png": "[encoded data removed]",
      "text/plain": [
       "plot without title"
      ]
     },
     "metadata": {},
     "output_type": "display_data"
    }
   ],
   "source": [
    "data <- summarize(group_by(df, experiment_id, day_index), num_completes=sum(complete_flag), num_users=n())\n",
    "data$pct_completes <- 100*data$num_completes/data$num_users\n",
    "options(repr.plot.width=6, repr.plot.height=2.5)\n",
    "\n",
    "filter(data, day_index==30)\n",
    "\n",
    "my_theme <- theme_set(theme_bw())\n",
    "my_theme <- theme_update(legend.position = c(0.1, 0.25))\n",
    "\n",
    "p <- ggplot(data, aes(x=day_index, y=pct_completes, fill=experiment_id)) + \n",
    "    geom_point(show.legend=FALSE) +\n",
    "    scale_shape_discrete(guide=FALSE) +\n",
    "    geom_line(aes(linetype=experiment_id)) +\n",
    "    scale_x_continuous(name=\"Days into the study\") +\n",
    "    scale_y_continuous(name=\"% of participants\", limit=c(0,80)) +\n",
    "    scale_linetype_discrete(name=\"Condition\", breaks=c(\"Random\", \"Fixed\"), labels=c(\"Treatment\", \"Control\"))\n",
    "p\n",
    "ggsave(\"../reports/figures/lines_completion_days.pdf\", width=6, height=2.5, units='in', device = cairo_pdf)"
   ]
  },
  {
   "cell_type": "markdown",
   "metadata": {},
   "source": [
    "## 3. Hypothesis testing\n",
    "\n",
    "To evaluate the overall effectiveness of the treament, we perform a hypothesis testing using Mann-Whitney U test.\n",
    "\n",
    "H0: rank_sum(treatment) = rank_sum(control)  \n",
    "H1: rank_sum(treatment) != rank_sum(control)"
   ]
  },
  {
   "cell_type": "code",
   "execution_count": 14,
   "metadata": {},
   "outputs": [],
   "source": [
    "hypo.test <- function(complete_rates){\n",
    "    IRdisplay::display(nrow(complete_rates))\n",
    "    users.count<- summarize(group_by(complete_rates, experiment_id), count=n())\n",
    "    IRdisplay::display(users.count)\n",
    "    comp_days.mean <- summarize(group_by(complete_rates, experiment_id), mean=mean(completed_days))\n",
    "    comp_days.median <- summarize(group_by(complete_rates, experiment_id), median=median(completed_days))\n",
    "    comp_rate.mean <- summarize(group_by(complete_rates, experiment_id), mean=mean(completion_rate))\n",
    "    comp_rate.median <- summarize(group_by(complete_rates, experiment_id), median=median(completion_rate))\n",
    "    wilcox.test(completion_rate ~ experiment_id, complete_rates, paired=FALSE) \n",
    "}"
   ]
  },
  {
   "cell_type": "markdown",
   "metadata": {},
   "source": [
    "### Modified intention-to-treat analysis (mITT)\n",
    "\n",
    "Our exclusion criteria:\n",
    "\n",
    "1. Exclude subjects who did not receive any deduction.\n",
    "2. Exclude subjects who did not complete any daily task.\n",
    "3. Exclude subjects who did not complete any daily task or did not receive any deduction.\n",
    "\n",
    "Statistics:\n",
    "* N = 202\n",
    "* U = 4142, p-value = 0.02729. Significant at $\\alpha$ = 0.05.\n",
    "* Treatment is 46.67% better than control\n",
    "\n",
    "Uncontrolled, the random-loss incentive is more effective than the fixed-loss incentive."
   ]
  },
  {
   "cell_type": "code",
   "execution_count": 15,
   "metadata": {},
   "outputs": [
    {
     "data": {
      "text/html": [
       "202"
      ],
      "text/latex": [
       "202"
      ],
      "text/markdown": [
       "202"
      ],
      "text/plain": [
       "[1] 202"
      ]
     },
     "metadata": {},
     "output_type": "display_data"
    },
    {
     "data": {
      "text/html": [
       "<table>\n",
       "<thead><tr><th scope=col>experiment_id</th><th scope=col>count</th></tr></thead>\n",
       "<tbody>\n",
       "\t<tr><td>Fixed </td><td> 91   </td></tr>\n",
       "\t<tr><td>Random</td><td>111   </td></tr>\n",
       "</tbody>\n",
       "</table>\n"
      ],
      "text/latex": [
       "\\begin{tabular}{r|ll}\n",
       " experiment\\_id & count\\\\\n",
       "\\hline\n",
       "\t Fixed  &  91   \\\\\n",
       "\t Random & 111   \\\\\n",
       "\\end{tabular}\n"
      ],
      "text/markdown": [
       "\n",
       "experiment_id | count | \n",
       "|---|---|\n",
       "| Fixed  |  91    | \n",
       "| Random | 111    | \n",
       "\n",
       "\n"
      ],
      "text/plain": [
       "  experiment_id count\n",
       "1 Fixed          91  \n",
       "2 Random        111  "
      ]
     },
     "metadata": {},
     "output_type": "display_data"
    },
    {
     "data": {
      "text/plain": [
       "\n",
       "\tWilcoxon rank sum test with continuity correction\n",
       "\n",
       "data:  completion_rate by experiment_id\n",
       "W = 4142, p-value = 0.02729\n",
       "alternative hypothesis: true location shift is not equal to 0\n"
      ]
     },
     "metadata": {},
     "output_type": "display_data"
    }
   ],
   "source": [
    "hypo.test(filter(complete_rates, completed_days < 30))"
   ]
  },
  {
   "cell_type": "markdown",
   "metadata": {},
   "source": [
    "## 4. Mixed effects logistic regression"
   ]
  },
  {
   "cell_type": "markdown",
   "metadata": {},
   "source": [
    "### Modified intention-to-treat analysis (mITT)\n",
    "\n",
    "Our exclusion criteria:\n",
    "\n",
    "1. Exclude subjects who did not receive any deduction.\n",
    "2. Exclude subjects who did not complete any daily task.\n",
    "3. Exclude subjects who did not complete any daily task or did not receive any deduction.\n",
    "\n",
    "Statistics:\n",
    "* Number of rows = 6050\n",
    "* Number of subjects = 202"
   ]
  },
  {
   "cell_type": "code",
   "execution_count": 16,
   "metadata": {},
   "outputs": [
    {
     "data": {
      "text/html": [
       "6050"
      ],
      "text/latex": [
       "6050"
      ],
      "text/markdown": [
       "6050"
      ],
      "text/plain": [
       "[1] 6050"
      ]
     },
     "metadata": {},
     "output_type": "display_data"
    },
    {
     "data": {
      "text/html": [
       "202"
      ],
      "text/latex": [
       "202"
      ],
      "text/markdown": [
       "202"
      ],
      "text/plain": [
       "[1] 202"
      ]
     },
     "metadata": {},
     "output_type": "display_data"
    }
   ],
   "source": [
    "df <- merge(users_df, deducs_df, by=\"user_id\", all.x=TRUE)\n",
    "df <- merge(df, demos_df, by=\"user_id\", all.x=TRUE)\n",
    "df <- merge(df, eod_df, by=c(\"user_id\", \"day_index\"), all.x=TRUE)\n",
    "df <- merge(df, pre_diary_df, by=\"user_id\", all.x=TRUE)\n",
    "df$prior_diary_days[is.na(df$prior_diary_days)] <- 0\n",
    "df <- merge(df, select(complete_rates, user_id, completion_rate), by=\"user_id\", all.x=TRUE)\n",
    "df <- filter(df, day_index >= 1 & day_index <= 30 & completion_rate < 1)\n",
    "nrow(df)\n",
    "length(unique(df$user_id))"
   ]
  },
  {
   "cell_type": "markdown",
   "metadata": {},
   "source": [
    "### Model selection\n",
    "\n",
    "8 Models corresponding to those in Section 6.2 in the paper.\n",
    "\n",
    "* Model 1 (mitt.1.m.1)\n",
    "* Model 2 (mitt.1.m.2)\n",
    "* Model 3 (mitt.1.m.3)\n",
    "* Model 4 (mitt.1.m.4)\n",
    "* Model 5 (mitt.1.m.5)\n",
    "* Model 6 (mitt.1.m.6)\n",
    "* Model 7 (mitt.1.m.7)\n",
    "* Model 8 (mitt.1.m.8)"
   ]
  },
  {
   "cell_type": "code",
   "execution_count": 17,
   "metadata": {},
   "outputs": [],
   "source": [
    "mitt.1.m.1 <- glmer(complete_flag ~ experiment_id + (1|user_id), family=binomial, data=df)\n",
    "mitt.1.m.2 <- glmer(complete_flag ~ experiment_id + day_index + (1|user_id), family=binomial, data=df)\n",
    "mitt.1.m.3 <- glmer(complete_flag ~ experiment_id + experiment_id:day_index + day_index + (1|user_id), family=binomial, data=df)\n",
    "mitt.1.m.4 <- glmer(complete_flag ~ experiment_id + experiment_id:day_index + day_index + prior_diary_days + (1|user_id), family=binomial, data=df)\n",
    "mitt.1.m.5 <- glmer(complete_flag ~ experiment_id + experiment_id:day_index + day_index + prior_diary_days + eff_survey + (1+eff_survey|user_id), \n",
    "                 family=binomial, data=df, control=glmerControl(optimizer=\"bobyqa\", optCtrl=list(maxfun=100000)))\n",
    "mitt.1.m.6 <- glmer(complete_flag ~ experiment_id + experiment_id:day_index + experiment_id:gender + day_index + prior_diary_days + eff_survey + gender + (1+eff_survey|user_id), \n",
    "                 family=binomial, data=df, control=glmerControl(optimizer=\"bobyqa\", optCtrl=list(maxfun=100000)))\n",
    "mitt.1.m.7 <- glmer(complete_flag ~ experiment_id + experiment_id:day_index + experiment_id:gender + experiment_id:age + day_index + prior_diary_days + eff_survey + gender + age + (1+eff_survey|user_id), \n",
    "                 family=binomial, data=df, control=glmerControl(optimizer=\"bobyqa\", optCtrl=list(maxfun=100000)))\n",
    "mitt.1.m.8 <- glmer(complete_flag ~ experiment_id + experiment_id:day_index + experiment_id:gender + experiment_id:age + experiment_id:grit + day_index + prior_diary_days + eff_survey + gender + age + grit + (1+eff_survey|user_id), \n",
    "                 family=binomial, data=df, control=glmerControl(optimizer=\"bobyqa\", optCtrl=list(maxfun=1000000)))"
   ]
  },
  {
   "cell_type": "markdown",
   "metadata": {},
   "source": [
    "Results for each model below."
   ]
  },
  {
   "cell_type": "code",
   "execution_count": 18,
   "metadata": {},
   "outputs": [
    {
     "data": {
      "text/plain": [
       "Generalized linear mixed model fit by maximum likelihood (Laplace\n",
       "  Approximation) [glmerMod]\n",
       " Family: binomial  ( logit )\n",
       "Formula: complete_flag ~ experiment_id + (1 | user_id)\n",
       "   Data: df\n",
       "\n",
       "     AIC      BIC   logLik deviance df.resid \n",
       "  4779.5   4799.6  -2386.8   4773.5     6047 \n",
       "\n",
       "Scaled residuals: \n",
       "    Min      1Q  Median      3Q     Max \n",
       "-4.6965 -0.2198  0.2163  0.4089  4.7285 \n",
       "\n",
       "Random effects:\n",
       " Groups  Name        Variance Std.Dev.\n",
       " user_id (Intercept) 8.415    2.901   \n",
       "Number of obs: 6050, groups:  user_id, 202\n",
       "\n",
       "Fixed effects:\n",
       "                    Estimate Std. Error z value Pr(>|z|)  \n",
       "(Intercept)          -0.7148     0.3163   -2.26   0.0238 *\n",
       "experiment_idRandom   0.9095     0.4250    2.14   0.0324 *\n",
       "---\n",
       "Signif. codes:  0 ‘***’ 0.001 ‘**’ 0.01 ‘*’ 0.05 ‘.’ 0.1 ‘ ’ 1\n",
       "\n",
       "Correlation of Fixed Effects:\n",
       "            (Intr)\n",
       "exprmnt_dRn -0.742"
      ]
     },
     "metadata": {},
     "output_type": "display_data"
    },
    {
     "data": {
      "text/html": [
       "<table>\n",
       "<thead><tr><th></th><th scope=col>Estimate</th><th scope=col>Std. Error</th><th scope=col>z value</th><th scope=col>Pr(&gt;|z|)</th></tr></thead>\n",
       "<tbody>\n",
       "\t<tr><th scope=row>(Intercept)</th><td>-0.7148457</td><td>0.3163364 </td><td>-2.259764 </td><td>0.02383587</td></tr>\n",
       "\t<tr><th scope=row>experiment_idRandom</th><td> 0.9095020</td><td>0.4249974 </td><td> 2.140018 </td><td>0.03235333</td></tr>\n",
       "</tbody>\n",
       "</table>\n"
      ],
      "text/latex": [
       "\\begin{tabular}{r|llll}\n",
       "  & Estimate & Std. Error & z value & Pr(>\\textbar{}z\\textbar{})\\\\\n",
       "\\hline\n",
       "\t(Intercept) & -0.7148457 & 0.3163364  & -2.259764  & 0.02383587\\\\\n",
       "\texperiment\\_idRandom &  0.9095020 & 0.4249974  &  2.140018  & 0.03235333\\\\\n",
       "\\end{tabular}\n"
      ],
      "text/markdown": [
       "\n",
       "| <!--/--> | Estimate | Std. Error | z value | Pr(>|z|) | \n",
       "|---|---|\n",
       "| (Intercept) | -0.7148457 | 0.3163364  | -2.259764  | 0.02383587 | \n",
       "| experiment_idRandom |  0.9095020 | 0.4249974  |  2.140018  | 0.03235333 | \n",
       "\n",
       "\n"
      ],
      "text/plain": [
       "                    Estimate   Std. Error z value   Pr(>|z|)  \n",
       "(Intercept)         -0.7148457 0.3163364  -2.259764 0.02383587\n",
       "experiment_idRandom  0.9095020 0.4249974   2.140018 0.03235333"
      ]
     },
     "metadata": {},
     "output_type": "display_data"
    }
   ],
   "source": [
    "summary(mitt.1.m.1)\n",
    "summary(mitt.1.m.1)$coefficients"
   ]
  },
  {
   "cell_type": "code",
   "execution_count": 19,
   "metadata": {},
   "outputs": [
    {
     "data": {
      "text/plain": [
       "Generalized linear mixed model fit by maximum likelihood (Laplace\n",
       "  Approximation) [glmerMod]\n",
       " Family: binomial  ( logit )\n",
       "Formula: complete_flag ~ experiment_id + day_index + (1 | user_id)\n",
       "   Data: df\n",
       "\n",
       "     AIC      BIC   logLik deviance df.resid \n",
       "  4354.4   4381.3  -2173.2   4346.4     6046 \n",
       "\n",
       "Scaled residuals: \n",
       "     Min       1Q   Median       3Q      Max \n",
       "-11.2086  -0.1976   0.1111   0.3597   3.1305 \n",
       "\n",
       "Random effects:\n",
       " Groups  Name        Variance Std.Dev.\n",
       " user_id (Intercept) 10.47    3.236   \n",
       "Number of obs: 6050, groups:  user_id, 202\n",
       "\n",
       "Fixed effects:\n",
       "                     Estimate Std. Error z value Pr(>|z|)    \n",
       "(Intercept)          0.789333   0.359840   2.194   0.0283 *  \n",
       "experiment_idRandom  1.015318   0.472844   2.147   0.0318 *  \n",
       "day_index           -0.102154   0.005242 -19.486   <2e-16 ***\n",
       "---\n",
       "Signif. codes:  0 ‘***’ 0.001 ‘**’ 0.01 ‘*’ 0.05 ‘.’ 0.1 ‘ ’ 1\n",
       "\n",
       "Correlation of Fixed Effects:\n",
       "            (Intr) expr_R\n",
       "exprmnt_dRn -0.721       \n",
       "day_index   -0.211 -0.019"
      ]
     },
     "metadata": {},
     "output_type": "display_data"
    },
    {
     "data": {
      "text/html": [
       "<table>\n",
       "<thead><tr><th></th><th scope=col>Estimate</th><th scope=col>Std. Error</th><th scope=col>z value</th><th scope=col>Pr(&gt;|z|)</th></tr></thead>\n",
       "<tbody>\n",
       "\t<tr><th scope=row>(Intercept)</th><td> 0.7893330  </td><td>0.359839927 </td><td>  2.193567  </td><td>2.826655e-02</td></tr>\n",
       "\t<tr><th scope=row>experiment_idRandom</th><td> 1.0153181  </td><td>0.472843735 </td><td>  2.147259  </td><td>3.177264e-02</td></tr>\n",
       "\t<tr><th scope=row>day_index</th><td>-0.1021535  </td><td>0.005242452 </td><td>-19.485832  </td><td>1.448056e-84</td></tr>\n",
       "</tbody>\n",
       "</table>\n"
      ],
      "text/latex": [
       "\\begin{tabular}{r|llll}\n",
       "  & Estimate & Std. Error & z value & Pr(>\\textbar{}z\\textbar{})\\\\\n",
       "\\hline\n",
       "\t(Intercept) &  0.7893330   & 0.359839927  &   2.193567   & 2.826655e-02\\\\\n",
       "\texperiment\\_idRandom &  1.0153181   & 0.472843735  &   2.147259   & 3.177264e-02\\\\\n",
       "\tday\\_index & -0.1021535   & 0.005242452  & -19.485832   & 1.448056e-84\\\\\n",
       "\\end{tabular}\n"
      ],
      "text/markdown": [
       "\n",
       "| <!--/--> | Estimate | Std. Error | z value | Pr(>|z|) | \n",
       "|---|---|---|\n",
       "| (Intercept) |  0.7893330   | 0.359839927  |   2.193567   | 2.826655e-02 | \n",
       "| experiment_idRandom |  1.0153181   | 0.472843735  |   2.147259   | 3.177264e-02 | \n",
       "| day_index | -0.1021535   | 0.005242452  | -19.485832   | 1.448056e-84 | \n",
       "\n",
       "\n"
      ],
      "text/plain": [
       "                    Estimate   Std. Error  z value    Pr(>|z|)    \n",
       "(Intercept)          0.7893330 0.359839927   2.193567 2.826655e-02\n",
       "experiment_idRandom  1.0153181 0.472843735   2.147259 3.177264e-02\n",
       "day_index           -0.1021535 0.005242452 -19.485832 1.448056e-84"
      ]
     },
     "metadata": {},
     "output_type": "display_data"
    }
   ],
   "source": [
    "summary(mitt.1.m.2)\n",
    "summary(mitt.1.m.2)$coefficients"
   ]
  },
  {
   "cell_type": "code",
   "execution_count": 20,
   "metadata": {},
   "outputs": [
    {
     "data": {
      "text/plain": [
       "Generalized linear mixed model fit by maximum likelihood (Laplace\n",
       "  Approximation) [glmerMod]\n",
       " Family: binomial  ( logit )\n",
       "Formula: complete_flag ~ experiment_id + experiment_id:day_index + day_index +  \n",
       "    (1 | user_id)\n",
       "   Data: df\n",
       "\n",
       "     AIC      BIC   logLik deviance df.resid \n",
       "  4350.8   4384.3  -2170.4   4340.8     6045 \n",
       "\n",
       "Scaled residuals: \n",
       "     Min       1Q   Median       3Q      Max \n",
       "-13.0067  -0.1986   0.1118   0.3544   2.9986 \n",
       "\n",
       "Random effects:\n",
       " Groups  Name        Variance Std.Dev.\n",
       " user_id (Intercept) 10.52    3.243   \n",
       "Number of obs: 6050, groups:  user_id, 202\n",
       "\n",
       "Fixed effects:\n",
       "                               Estimate Std. Error z value Pr(>|z|)    \n",
       "(Intercept)                    1.009377   0.372316   2.711  0.00671 ** \n",
       "experiment_idRandom            0.607693   0.501792   1.211  0.22588    \n",
       "day_index                     -0.116622   0.008089 -14.418  < 2e-16 ***\n",
       "experiment_idRandom:day_index  0.025661   0.010524   2.438  0.01475 *  \n",
       "---\n",
       "Signif. codes:  0 ‘***’ 0.001 ‘**’ 0.01 ‘*’ 0.05 ‘.’ 0.1 ‘ ’ 1\n",
       "\n",
       "Correlation of Fixed Effects:\n",
       "            (Intr) expr_R dy_ndx\n",
       "exprmnt_dRn -0.742              \n",
       "day_index   -0.321  0.239       \n",
       "exprmnt_R:_  0.248 -0.329 -0.761"
      ]
     },
     "metadata": {},
     "output_type": "display_data"
    },
    {
     "data": {
      "text/html": [
       "<table>\n",
       "<thead><tr><th></th><th scope=col>Estimate</th><th scope=col>Std. Error</th><th scope=col>z value</th><th scope=col>Pr(&gt;|z|)</th></tr></thead>\n",
       "<tbody>\n",
       "\t<tr><th scope=row>(Intercept)</th><td> 1.00937741 </td><td>0.37231629  </td><td>  2.711075  </td><td>6.706544e-03</td></tr>\n",
       "\t<tr><th scope=row>experiment_idRandom</th><td> 0.60769320 </td><td>0.50179156  </td><td>  1.211047  </td><td>2.258774e-01</td></tr>\n",
       "\t<tr><th scope=row>day_index</th><td>-0.11662231 </td><td>0.00808858  </td><td>-14.418145  </td><td>3.978948e-47</td></tr>\n",
       "\t<tr><th scope=row>experiment_idRandom:day_index</th><td> 0.02566098 </td><td>0.01052392  </td><td>  2.438349  </td><td>1.475451e-02</td></tr>\n",
       "</tbody>\n",
       "</table>\n"
      ],
      "text/latex": [
       "\\begin{tabular}{r|llll}\n",
       "  & Estimate & Std. Error & z value & Pr(>\\textbar{}z\\textbar{})\\\\\n",
       "\\hline\n",
       "\t(Intercept) &  1.00937741  & 0.37231629   &   2.711075   & 6.706544e-03\\\\\n",
       "\texperiment\\_idRandom &  0.60769320  & 0.50179156   &   1.211047   & 2.258774e-01\\\\\n",
       "\tday\\_index & -0.11662231  & 0.00808858   & -14.418145   & 3.978948e-47\\\\\n",
       "\texperiment\\_idRandom:day\\_index &  0.02566098  & 0.01052392   &   2.438349   & 1.475451e-02\\\\\n",
       "\\end{tabular}\n"
      ],
      "text/markdown": [
       "\n",
       "| <!--/--> | Estimate | Std. Error | z value | Pr(>|z|) | \n",
       "|---|---|---|---|\n",
       "| (Intercept) |  1.00937741  | 0.37231629   |   2.711075   | 6.706544e-03 | \n",
       "| experiment_idRandom |  0.60769320  | 0.50179156   |   1.211047   | 2.258774e-01 | \n",
       "| day_index | -0.11662231  | 0.00808858   | -14.418145   | 3.978948e-47 | \n",
       "| experiment_idRandom:day_index |  0.02566098  | 0.01052392   |   2.438349   | 1.475451e-02 | \n",
       "\n",
       "\n"
      ],
      "text/plain": [
       "                              Estimate    Std. Error z value    Pr(>|z|)    \n",
       "(Intercept)                    1.00937741 0.37231629   2.711075 6.706544e-03\n",
       "experiment_idRandom            0.60769320 0.50179156   1.211047 2.258774e-01\n",
       "day_index                     -0.11662231 0.00808858 -14.418145 3.978948e-47\n",
       "experiment_idRandom:day_index  0.02566098 0.01052392   2.438349 1.475451e-02"
      ]
     },
     "metadata": {},
     "output_type": "display_data"
    }
   ],
   "source": [
    "summary(mitt.1.m.3)\n",
    "summary(mitt.1.m.3)$coefficients"
   ]
  },
  {
   "cell_type": "markdown",
   "metadata": {},
   "source": [
    "Interaction effect of interventions and days into the study. Figure 8 in the paper."
   ]
  },
  {
   "cell_type": "code",
   "execution_count": 21,
   "metadata": {},
   "outputs": [
    {
     "data": {
      "text/html": [
       "<table>\n",
       "<thead><tr><th scope=col>experiment_id</th><th scope=col>day_index</th><th scope=col>fit</th><th scope=col>se</th><th scope=col>lower</th><th scope=col>upper</th></tr></thead>\n",
       "<tbody>\n",
       "\t<tr><td>Fixed     </td><td> 1.0      </td><td>0.70945840</td><td>0.3697994 </td><td>0.54189194</td><td>0.8344568 </td></tr>\n",
       "\t<tr><td>Random    </td><td> 1.0      </td><td>0.82143634</td><td>0.3342869 </td><td>0.70493689</td><td>0.8985576 </td></tr>\n",
       "\t<tr><td>Fixed     </td><td> 8.2      </td><td>0.51326550</td><td>0.3566037 </td><td>0.34392397</td><td>0.6796154 </td></tr>\n",
       "\t<tr><td>Random    </td><td> 8.2      </td><td>0.70499278</td><td>0.3223334 </td><td>0.55957215</td><td>0.8180140 </td></tr>\n",
       "\t<tr><td>Fixed     </td><td>16.0      </td><td>0.29805446</td><td>0.3527560 </td><td>0.17537985</td><td>0.4587960 </td></tr>\n",
       "\t<tr><td>Random    </td><td>16.0      </td><td>0.54033450</td><td>0.3175735 </td><td>0.38680950</td><td>0.6865678 </td></tr>\n",
       "\t<tr><td>Fixed     </td><td>23.0      </td><td>0.15803315</td><td>0.3588389 </td><td>0.08500200</td><td>0.2749553 </td></tr>\n",
       "\t<tr><td>Random    </td><td>23.0      </td><td>0.38342404</td><td>0.3208606 </td><td>0.24900700</td><td>0.5383832 </td></tr>\n",
       "\t<tr><td>Fixed     </td><td>30.0      </td><td>0.07661227</td><td>0.3735044 </td><td>0.03837025</td><td>0.1471367 </td></tr>\n",
       "\t<tr><td>Random    </td><td>30.0      </td><td>0.24754118</td><td>0.3310907 </td><td>0.14670329</td><td>0.3863115 </td></tr>\n",
       "</tbody>\n",
       "</table>\n"
      ],
      "text/latex": [
       "\\begin{tabular}{r|llllll}\n",
       " experiment\\_id & day\\_index & fit & se & lower & upper\\\\\n",
       "\\hline\n",
       "\t Fixed      &  1.0       & 0.70945840 & 0.3697994  & 0.54189194 & 0.8344568 \\\\\n",
       "\t Random     &  1.0       & 0.82143634 & 0.3342869  & 0.70493689 & 0.8985576 \\\\\n",
       "\t Fixed      &  8.2       & 0.51326550 & 0.3566037  & 0.34392397 & 0.6796154 \\\\\n",
       "\t Random     &  8.2       & 0.70499278 & 0.3223334  & 0.55957215 & 0.8180140 \\\\\n",
       "\t Fixed      & 16.0       & 0.29805446 & 0.3527560  & 0.17537985 & 0.4587960 \\\\\n",
       "\t Random     & 16.0       & 0.54033450 & 0.3175735  & 0.38680950 & 0.6865678 \\\\\n",
       "\t Fixed      & 23.0       & 0.15803315 & 0.3588389  & 0.08500200 & 0.2749553 \\\\\n",
       "\t Random     & 23.0       & 0.38342404 & 0.3208606  & 0.24900700 & 0.5383832 \\\\\n",
       "\t Fixed      & 30.0       & 0.07661227 & 0.3735044  & 0.03837025 & 0.1471367 \\\\\n",
       "\t Random     & 30.0       & 0.24754118 & 0.3310907  & 0.14670329 & 0.3863115 \\\\\n",
       "\\end{tabular}\n"
      ],
      "text/markdown": [
       "\n",
       "experiment_id | day_index | fit | se | lower | upper | \n",
       "|---|---|---|---|---|---|---|---|---|---|\n",
       "| Fixed      |  1.0       | 0.70945840 | 0.3697994  | 0.54189194 | 0.8344568  | \n",
       "| Random     |  1.0       | 0.82143634 | 0.3342869  | 0.70493689 | 0.8985576  | \n",
       "| Fixed      |  8.2       | 0.51326550 | 0.3566037  | 0.34392397 | 0.6796154  | \n",
       "| Random     |  8.2       | 0.70499278 | 0.3223334  | 0.55957215 | 0.8180140  | \n",
       "| Fixed      | 16.0       | 0.29805446 | 0.3527560  | 0.17537985 | 0.4587960  | \n",
       "| Random     | 16.0       | 0.54033450 | 0.3175735  | 0.38680950 | 0.6865678  | \n",
       "| Fixed      | 23.0       | 0.15803315 | 0.3588389  | 0.08500200 | 0.2749553  | \n",
       "| Random     | 23.0       | 0.38342404 | 0.3208606  | 0.24900700 | 0.5383832  | \n",
       "| Fixed      | 30.0       | 0.07661227 | 0.3735044  | 0.03837025 | 0.1471367  | \n",
       "| Random     | 30.0       | 0.24754118 | 0.3310907  | 0.14670329 | 0.3863115  | \n",
       "\n",
       "\n"
      ],
      "text/plain": [
       "   experiment_id day_index fit        se        lower      upper    \n",
       "1  Fixed          1.0      0.70945840 0.3697994 0.54189194 0.8344568\n",
       "2  Random         1.0      0.82143634 0.3342869 0.70493689 0.8985576\n",
       "3  Fixed          8.2      0.51326550 0.3566037 0.34392397 0.6796154\n",
       "4  Random         8.2      0.70499278 0.3223334 0.55957215 0.8180140\n",
       "5  Fixed         16.0      0.29805446 0.3527560 0.17537985 0.4587960\n",
       "6  Random        16.0      0.54033450 0.3175735 0.38680950 0.6865678\n",
       "7  Fixed         23.0      0.15803315 0.3588389 0.08500200 0.2749553\n",
       "8  Random        23.0      0.38342404 0.3208606 0.24900700 0.5383832\n",
       "9  Fixed         30.0      0.07661227 0.3735044 0.03837025 0.1471367\n",
       "10 Random        30.0      0.24754118 0.3310907 0.14670329 0.3863115"
      ]
     },
     "metadata": {},
     "output_type": "display_data"
    },
    {
     "data": {},
     "metadata": {},
     "output_type": "display_data"
    },
    {
     "data": {
      "image/png": "[encoded data removed]",
      "text/plain": [
       "plot without title"
      ]
     },
     "metadata": {},
     "output_type": "display_data"
    }
   ],
   "source": [
    "ef <- effect(\"experiment_id:day_index\", mitt.1.m.3)\n",
    "x <- as.data.frame(ef)\n",
    "x\n",
    "options(repr.plot.width=6, repr.plot.height=3)\n",
    "\n",
    "my_theme <- theme_set(theme_bw())\n",
    "my_theme <- theme_update(legend.position = c(0.9, 0.8))\n",
    "\n",
    "p <- ggplot(x, aes(x=day_index, y=fit)) + \n",
    "    geom_point() +\n",
    "    geom_line(aes(linetype=experiment_id)) + \n",
    "    geom_errorbar(aes(ymin=fit-se, ymax=fit+se), width=0.5) +\n",
    "    scale_x_continuous(name=\"Days into the study\") +\n",
    "    scale_y_continuous(name=\"Task completion probability\") +\n",
    "    scale_linetype_discrete(name=\"Condition\", breaks=c(\"Random\", \"Fixed\"), labels=c(\"Treatment\", \"Control\"))\n",
    "    \n",
    "p\n",
    "ggsave(\"../reports/figures/interaction.pdf\", width=6, height=3, units='in', device = cairo_pdf)"
   ]
  },
  {
   "cell_type": "code",
   "execution_count": 22,
   "metadata": {},
   "outputs": [
    {
     "data": {
      "text/plain": [
       "Generalized linear mixed model fit by maximum likelihood (Laplace\n",
       "  Approximation) [glmerMod]\n",
       " Family: binomial  ( logit )\n",
       "Formula: complete_flag ~ experiment_id + experiment_id:day_index + day_index +  \n",
       "    prior_diary_days + (1 | user_id)\n",
       "   Data: df\n",
       "\n",
       "     AIC      BIC   logLik deviance df.resid \n",
       "  4347.8   4388.0  -2167.9   4335.8     6044 \n",
       "\n",
       "Scaled residuals: \n",
       "     Min       1Q   Median       3Q      Max \n",
       "-12.9343  -0.1964   0.1115   0.3547   3.0106 \n",
       "\n",
       "Random effects:\n",
       " Groups  Name        Variance Std.Dev.\n",
       " user_id (Intercept) 10.26    3.204   \n",
       "Number of obs: 6050, groups:  user_id, 202\n",
       "\n",
       "Fixed effects:\n",
       "                               Estimate Std. Error z value Pr(>|z|)    \n",
       "(Intercept)                    0.806614   0.379648   2.125   0.0336 *  \n",
       "experiment_idRandom            0.621421   0.496891   1.251   0.2111    \n",
       "day_index                     -0.116739   0.008095 -14.422   <2e-16 ***\n",
       "prior_diary_days               0.112897   0.050116   2.253   0.0243 *  \n",
       "experiment_idRandom:day_index  0.025854   0.010527   2.456   0.0140 *  \n",
       "---\n",
       "Signif. codes:  0 ‘***’ 0.001 ‘**’ 0.01 ‘*’ 0.05 ‘.’ 0.1 ‘ ’ 1\n",
       "\n",
       "Correlation of Fixed Effects:\n",
       "            (Intr) expr_R dy_ndx prr_d_\n",
       "exprmnt_dRn -0.724                     \n",
       "day_index   -0.310  0.241              \n",
       "prr_dry_dys -0.238  0.013 -0.022       \n",
       "exprmnt_R:_  0.241 -0.332 -0.761  0.012"
      ]
     },
     "metadata": {},
     "output_type": "display_data"
    },
    {
     "data": {
      "text/html": [
       "<table>\n",
       "<thead><tr><th></th><th scope=col>Estimate</th><th scope=col>Std. Error</th><th scope=col>z value</th><th scope=col>Pr(&gt;|z|)</th></tr></thead>\n",
       "<tbody>\n",
       "\t<tr><th scope=row>(Intercept)</th><td> 0.80661403 </td><td>0.379647828 </td><td>  2.124638  </td><td>3.361687e-02</td></tr>\n",
       "\t<tr><th scope=row>experiment_idRandom</th><td> 0.62142058 </td><td>0.496891244 </td><td>  1.250617  </td><td>2.110743e-01</td></tr>\n",
       "\t<tr><th scope=row>day_index</th><td>-0.11673922 </td><td>0.008094769 </td><td>-14.421563  </td><td>3.786715e-47</td></tr>\n",
       "\t<tr><th scope=row>prior_diary_days</th><td> 0.11289654 </td><td>0.050115912 </td><td>  2.252708  </td><td>2.427754e-02</td></tr>\n",
       "\t<tr><th scope=row>experiment_idRandom:day_index</th><td> 0.02585374 </td><td>0.010526578 </td><td>  2.456044  </td><td>1.404759e-02</td></tr>\n",
       "</tbody>\n",
       "</table>\n"
      ],
      "text/latex": [
       "\\begin{tabular}{r|llll}\n",
       "  & Estimate & Std. Error & z value & Pr(>\\textbar{}z\\textbar{})\\\\\n",
       "\\hline\n",
       "\t(Intercept) &  0.80661403  & 0.379647828  &   2.124638   & 3.361687e-02\\\\\n",
       "\texperiment\\_idRandom &  0.62142058  & 0.496891244  &   1.250617   & 2.110743e-01\\\\\n",
       "\tday\\_index & -0.11673922  & 0.008094769  & -14.421563   & 3.786715e-47\\\\\n",
       "\tprior\\_diary\\_days &  0.11289654  & 0.050115912  &   2.252708   & 2.427754e-02\\\\\n",
       "\texperiment\\_idRandom:day\\_index &  0.02585374  & 0.010526578  &   2.456044   & 1.404759e-02\\\\\n",
       "\\end{tabular}\n"
      ],
      "text/markdown": [
       "\n",
       "| <!--/--> | Estimate | Std. Error | z value | Pr(>|z|) | \n",
       "|---|---|---|---|---|\n",
       "| (Intercept) |  0.80661403  | 0.379647828  |   2.124638   | 3.361687e-02 | \n",
       "| experiment_idRandom |  0.62142058  | 0.496891244  |   1.250617   | 2.110743e-01 | \n",
       "| day_index | -0.11673922  | 0.008094769  | -14.421563   | 3.786715e-47 | \n",
       "| prior_diary_days |  0.11289654  | 0.050115912  |   2.252708   | 2.427754e-02 | \n",
       "| experiment_idRandom:day_index |  0.02585374  | 0.010526578  |   2.456044   | 1.404759e-02 | \n",
       "\n",
       "\n"
      ],
      "text/plain": [
       "                              Estimate    Std. Error  z value    Pr(>|z|)    \n",
       "(Intercept)                    0.80661403 0.379647828   2.124638 3.361687e-02\n",
       "experiment_idRandom            0.62142058 0.496891244   1.250617 2.110743e-01\n",
       "day_index                     -0.11673922 0.008094769 -14.421563 3.786715e-47\n",
       "prior_diary_days               0.11289654 0.050115912   2.252708 2.427754e-02\n",
       "experiment_idRandom:day_index  0.02585374 0.010526578   2.456044 1.404759e-02"
      ]
     },
     "metadata": {},
     "output_type": "display_data"
    }
   ],
   "source": [
    "summary(mitt.1.m.4)\n",
    "summary(mitt.1.m.4)$coefficients"
   ]
  },
  {
   "cell_type": "code",
   "execution_count": 23,
   "metadata": {},
   "outputs": [
    {
     "data": {
      "text/plain": [
       "Generalized linear mixed model fit by maximum likelihood (Laplace\n",
       "  Approximation) [glmerMod]\n",
       " Family: binomial  ( logit )\n",
       "Formula: complete_flag ~ experiment_id + experiment_id:day_index + day_index +  \n",
       "    prior_diary_days + eff_survey + (1 + eff_survey | user_id)\n",
       "   Data: df\n",
       "Control: glmerControl(optimizer = \"bobyqa\", optCtrl = list(maxfun = 1e+05))\n",
       "\n",
       "     AIC      BIC   logLik deviance df.resid \n",
       "   824.8    879.8   -403.4    806.8     3307 \n",
       "\n",
       "Scaled residuals: \n",
       "     Min       1Q   Median       3Q      Max \n",
       "-20.4652   0.0097   0.0226   0.0738   2.0785 \n",
       "\n",
       "Random effects:\n",
       " Groups  Name        Variance Std.Dev. Corr \n",
       " user_id (Intercept) 9.806    3.132         \n",
       "         eff_survey  3.073    1.753    -0.45\n",
       "Number of obs: 3316, groups:  user_id, 168\n",
       "\n",
       "Fixed effects:\n",
       "                              Estimate Std. Error z value Pr(>|z|)    \n",
       "(Intercept)                    5.77795    1.45509   3.971 7.16e-05 ***\n",
       "experiment_idRandom           -1.63752    0.97309  -1.683  0.09241 .  \n",
       "day_index                     -0.16769    0.02941  -5.701 1.19e-08 ***\n",
       "prior_diary_days              -0.03017    0.07130  -0.423  0.67215    \n",
       "eff_survey                     1.45900    0.49791   2.930  0.00339 ** \n",
       "experiment_idRandom:day_index  0.09089    0.03359   2.706  0.00681 ** \n",
       "---\n",
       "Signif. codes:  0 ‘***’ 0.001 ‘**’ 0.01 ‘*’ 0.05 ‘.’ 0.1 ‘ ’ 1\n",
       "\n",
       "Correlation of Fixed Effects:\n",
       "            (Intr) expr_R dy_ndx prr_d_ eff_sr\n",
       "exprmnt_dRn -0.418                            \n",
       "day_index   -0.471  0.549                     \n",
       "prr_dry_dys  0.009  0.024 -0.005              \n",
       "eff_survey  -0.664 -0.058 -0.033 -0.204       \n",
       "exprmnt_R:_  0.330 -0.645 -0.828  0.012  0.027"
      ]
     },
     "metadata": {},
     "output_type": "display_data"
    },
    {
     "data": {
      "text/html": [
       "<table>\n",
       "<thead><tr><th></th><th scope=col>Estimate</th><th scope=col>Std. Error</th><th scope=col>z value</th><th scope=col>Pr(&gt;|z|)</th></tr></thead>\n",
       "<tbody>\n",
       "\t<tr><th scope=row>(Intercept)</th><td> 5.77794624 </td><td>1.45509081  </td><td> 3.9708492  </td><td>7.161689e-05</td></tr>\n",
       "\t<tr><th scope=row>experiment_idRandom</th><td>-1.63752327 </td><td>0.97309266  </td><td>-1.6828030  </td><td>9.241323e-02</td></tr>\n",
       "\t<tr><th scope=row>day_index</th><td>-0.16768907 </td><td>0.02941321  </td><td>-5.7011485  </td><td>1.190029e-08</td></tr>\n",
       "\t<tr><th scope=row>prior_diary_days</th><td>-0.03017467 </td><td>0.07130108  </td><td>-0.4232008  </td><td>6.721488e-01</td></tr>\n",
       "\t<tr><th scope=row>eff_survey</th><td> 1.45900166 </td><td>0.49790862  </td><td> 2.9302599  </td><td>3.386786e-03</td></tr>\n",
       "\t<tr><th scope=row>experiment_idRandom:day_index</th><td> 0.09089046 </td><td>0.03358642  </td><td> 2.7061665  </td><td>6.806490e-03</td></tr>\n",
       "</tbody>\n",
       "</table>\n"
      ],
      "text/latex": [
       "\\begin{tabular}{r|llll}\n",
       "  & Estimate & Std. Error & z value & Pr(>\\textbar{}z\\textbar{})\\\\\n",
       "\\hline\n",
       "\t(Intercept) &  5.77794624  & 1.45509081   &  3.9708492   & 7.161689e-05\\\\\n",
       "\texperiment\\_idRandom & -1.63752327  & 0.97309266   & -1.6828030   & 9.241323e-02\\\\\n",
       "\tday\\_index & -0.16768907  & 0.02941321   & -5.7011485   & 1.190029e-08\\\\\n",
       "\tprior\\_diary\\_days & -0.03017467  & 0.07130108   & -0.4232008   & 6.721488e-01\\\\\n",
       "\teff\\_survey &  1.45900166  & 0.49790862   &  2.9302599   & 3.386786e-03\\\\\n",
       "\texperiment\\_idRandom:day\\_index &  0.09089046  & 0.03358642   &  2.7061665   & 6.806490e-03\\\\\n",
       "\\end{tabular}\n"
      ],
      "text/markdown": [
       "\n",
       "| <!--/--> | Estimate | Std. Error | z value | Pr(>|z|) | \n",
       "|---|---|---|---|---|---|\n",
       "| (Intercept) |  5.77794624  | 1.45509081   |  3.9708492   | 7.161689e-05 | \n",
       "| experiment_idRandom | -1.63752327  | 0.97309266   | -1.6828030   | 9.241323e-02 | \n",
       "| day_index | -0.16768907  | 0.02941321   | -5.7011485   | 1.190029e-08 | \n",
       "| prior_diary_days | -0.03017467  | 0.07130108   | -0.4232008   | 6.721488e-01 | \n",
       "| eff_survey |  1.45900166  | 0.49790862   |  2.9302599   | 3.386786e-03 | \n",
       "| experiment_idRandom:day_index |  0.09089046  | 0.03358642   |  2.7061665   | 6.806490e-03 | \n",
       "\n",
       "\n"
      ],
      "text/plain": [
       "                              Estimate    Std. Error z value    Pr(>|z|)    \n",
       "(Intercept)                    5.77794624 1.45509081  3.9708492 7.161689e-05\n",
       "experiment_idRandom           -1.63752327 0.97309266 -1.6828030 9.241323e-02\n",
       "day_index                     -0.16768907 0.02941321 -5.7011485 1.190029e-08\n",
       "prior_diary_days              -0.03017467 0.07130108 -0.4232008 6.721488e-01\n",
       "eff_survey                     1.45900166 0.49790862  2.9302599 3.386786e-03\n",
       "experiment_idRandom:day_index  0.09089046 0.03358642  2.7061665 6.806490e-03"
      ]
     },
     "metadata": {},
     "output_type": "display_data"
    }
   ],
   "source": [
    "summary(mitt.1.m.5)\n",
    "summary(mitt.1.m.5)$coefficients"
   ]
  },
  {
   "cell_type": "code",
   "execution_count": 24,
   "metadata": {},
   "outputs": [
    {
     "data": {
      "text/plain": [
       "Generalized linear mixed model fit by maximum likelihood (Laplace\n",
       "  Approximation) [glmerMod]\n",
       " Family: binomial  ( logit )\n",
       "Formula: \n",
       "complete_flag ~ experiment_id + experiment_id:day_index + experiment_id:gender +  \n",
       "    day_index + prior_diary_days + eff_survey + gender + (1 +  \n",
       "    eff_survey | user_id)\n",
       "   Data: df\n",
       "Control: glmerControl(optimizer = \"bobyqa\", optCtrl = list(maxfun = 1e+05))\n",
       "\n",
       "     AIC      BIC   logLik deviance df.resid \n",
       "   772.1    838.5   -375.0    750.1     3103 \n",
       "\n",
       "Scaled residuals: \n",
       "     Min       1Q   Median       3Q      Max \n",
       "-20.8862   0.0113   0.0226   0.0621   2.1732 \n",
       "\n",
       "Random effects:\n",
       " Groups  Name        Variance Std.Dev. Corr \n",
       " user_id (Intercept) 12.223   3.496         \n",
       "         eff_survey   2.206   1.485    -0.37\n",
       "Number of obs: 3114, groups:  user_id, 150\n",
       "\n",
       "Fixed effects:\n",
       "                               Estimate Std. Error z value Pr(>|z|)    \n",
       "(Intercept)                     7.88429    2.00675   3.929 8.53e-05 ***\n",
       "experiment_idRandom            -2.45737    1.19916  -2.049   0.0404 *  \n",
       "day_index                      -0.17019    0.03053  -5.574 2.49e-08 ***\n",
       "prior_diary_days               -0.03697    0.08909  -0.415   0.6782    \n",
       "eff_survey                      0.99555    0.59049   1.686   0.0918 .  \n",
       "gendermale                     -2.52520    1.73950  -1.452   0.1466    \n",
       "experiment_idRandom:day_index   0.08749    0.03510   2.492   0.0127 *  \n",
       "experiment_idRandom:gendermale  2.84371    2.07562   1.370   0.1707    \n",
       "---\n",
       "Signif. codes:  0 ‘***’ 0.001 ‘**’ 0.01 ‘*’ 0.05 ‘.’ 0.1 ‘ ’ 1\n",
       "\n",
       "Correlation of Fixed Effects:\n",
       "            (Intr) expr_R dy_ndx prr_d_ eff_sr gndrml ex_R:_\n",
       "exprmnt_dRn -0.397                                          \n",
       "day_index   -0.396  0.530                                   \n",
       "prr_dry_dys  0.027  0.077 -0.011                            \n",
       "eff_survey  -0.747 -0.001 -0.019 -0.166                     \n",
       "gendermale  -0.558  0.305  0.110 -0.056  0.408              \n",
       "exprmnt_R:_  0.258 -0.609 -0.834 -0.001  0.039 -0.054       \n",
       "exprmnt_dR:  0.470 -0.400 -0.081 -0.008 -0.371 -0.849  0.045"
      ]
     },
     "metadata": {},
     "output_type": "display_data"
    },
    {
     "data": {
      "text/html": [
       "<table>\n",
       "<thead><tr><th></th><th scope=col>Estimate</th><th scope=col>Std. Error</th><th scope=col>z value</th><th scope=col>Pr(&gt;|z|)</th></tr></thead>\n",
       "<tbody>\n",
       "\t<tr><th scope=row>(Intercept)</th><td> 7.88428891 </td><td>2.00674783  </td><td> 3.9288887  </td><td>8.533931e-05</td></tr>\n",
       "\t<tr><th scope=row>experiment_idRandom</th><td>-2.45736655 </td><td>1.19915607  </td><td>-2.0492466  </td><td>4.043800e-02</td></tr>\n",
       "\t<tr><th scope=row>day_index</th><td>-0.17019462 </td><td>0.03053325  </td><td>-5.5740747  </td><td>2.488490e-08</td></tr>\n",
       "\t<tr><th scope=row>prior_diary_days</th><td>-0.03696678 </td><td>0.08908536  </td><td>-0.4149591  </td><td>6.781719e-01</td></tr>\n",
       "\t<tr><th scope=row>eff_survey</th><td> 0.99554704 </td><td>0.59049415  </td><td> 1.6859558  </td><td>9.180432e-02</td></tr>\n",
       "\t<tr><th scope=row>gendermale</th><td>-2.52519876 </td><td>1.73949641  </td><td>-1.4516838  </td><td>1.465895e-01</td></tr>\n",
       "\t<tr><th scope=row>experiment_idRandom:day_index</th><td> 0.08749058 </td><td>0.03510271  </td><td> 2.4924168  </td><td>1.268770e-02</td></tr>\n",
       "\t<tr><th scope=row>experiment_idRandom:gendermale</th><td> 2.84370705 </td><td>2.07561856  </td><td> 1.3700528  </td><td>1.706704e-01</td></tr>\n",
       "</tbody>\n",
       "</table>\n"
      ],
      "text/latex": [
       "\\begin{tabular}{r|llll}\n",
       "  & Estimate & Std. Error & z value & Pr(>\\textbar{}z\\textbar{})\\\\\n",
       "\\hline\n",
       "\t(Intercept) &  7.88428891  & 2.00674783   &  3.9288887   & 8.533931e-05\\\\\n",
       "\texperiment\\_idRandom & -2.45736655  & 1.19915607   & -2.0492466   & 4.043800e-02\\\\\n",
       "\tday\\_index & -0.17019462  & 0.03053325   & -5.5740747   & 2.488490e-08\\\\\n",
       "\tprior\\_diary\\_days & -0.03696678  & 0.08908536   & -0.4149591   & 6.781719e-01\\\\\n",
       "\teff\\_survey &  0.99554704  & 0.59049415   &  1.6859558   & 9.180432e-02\\\\\n",
       "\tgendermale & -2.52519876  & 1.73949641   & -1.4516838   & 1.465895e-01\\\\\n",
       "\texperiment\\_idRandom:day\\_index &  0.08749058  & 0.03510271   &  2.4924168   & 1.268770e-02\\\\\n",
       "\texperiment\\_idRandom:gendermale &  2.84370705  & 2.07561856   &  1.3700528   & 1.706704e-01\\\\\n",
       "\\end{tabular}\n"
      ],
      "text/markdown": [
       "\n",
       "| <!--/--> | Estimate | Std. Error | z value | Pr(>|z|) | \n",
       "|---|---|---|---|---|---|---|---|\n",
       "| (Intercept) |  7.88428891  | 2.00674783   |  3.9288887   | 8.533931e-05 | \n",
       "| experiment_idRandom | -2.45736655  | 1.19915607   | -2.0492466   | 4.043800e-02 | \n",
       "| day_index | -0.17019462  | 0.03053325   | -5.5740747   | 2.488490e-08 | \n",
       "| prior_diary_days | -0.03696678  | 0.08908536   | -0.4149591   | 6.781719e-01 | \n",
       "| eff_survey |  0.99554704  | 0.59049415   |  1.6859558   | 9.180432e-02 | \n",
       "| gendermale | -2.52519876  | 1.73949641   | -1.4516838   | 1.465895e-01 | \n",
       "| experiment_idRandom:day_index |  0.08749058  | 0.03510271   |  2.4924168   | 1.268770e-02 | \n",
       "| experiment_idRandom:gendermale |  2.84370705  | 2.07561856   |  1.3700528   | 1.706704e-01 | \n",
       "\n",
       "\n"
      ],
      "text/plain": [
       "                               Estimate    Std. Error z value    Pr(>|z|)    \n",
       "(Intercept)                     7.88428891 2.00674783  3.9288887 8.533931e-05\n",
       "experiment_idRandom            -2.45736655 1.19915607 -2.0492466 4.043800e-02\n",
       "day_index                      -0.17019462 0.03053325 -5.5740747 2.488490e-08\n",
       "prior_diary_days               -0.03696678 0.08908536 -0.4149591 6.781719e-01\n",
       "eff_survey                      0.99554704 0.59049415  1.6859558 9.180432e-02\n",
       "gendermale                     -2.52519876 1.73949641 -1.4516838 1.465895e-01\n",
       "experiment_idRandom:day_index   0.08749058 0.03510271  2.4924168 1.268770e-02\n",
       "experiment_idRandom:gendermale  2.84370705 2.07561856  1.3700528 1.706704e-01"
      ]
     },
     "metadata": {},
     "output_type": "display_data"
    }
   ],
   "source": [
    "summary(mitt.1.m.6)\n",
    "summary(mitt.1.m.6)$coefficients"
   ]
  },
  {
   "cell_type": "code",
   "execution_count": 25,
   "metadata": {},
   "outputs": [
    {
     "data": {
      "text/plain": [
       "Generalized linear mixed model fit by maximum likelihood (Laplace\n",
       "  Approximation) [glmerMod]\n",
       " Family: binomial  ( logit )\n",
       "Formula: \n",
       "complete_flag ~ experiment_id + experiment_id:day_index + experiment_id:gender +  \n",
       "    experiment_id:age + day_index + prior_diary_days + eff_survey +  \n",
       "    gender + age + (1 + eff_survey | user_id)\n",
       "   Data: df\n",
       "Control: glmerControl(optimizer = \"bobyqa\", optCtrl = list(maxfun = 1e+05))\n",
       "\n",
       "     AIC      BIC   logLik deviance df.resid \n",
       "   708.4    785.4   -341.2    682.4     2761 \n",
       "\n",
       "Scaled residuals: \n",
       "     Min       1Q   Median       3Q      Max \n",
       "-15.1627   0.0353   0.0550   0.0960   1.8425 \n",
       "\n",
       "Random effects:\n",
       " Groups  Name        Variance Std.Dev. Corr\n",
       " user_id (Intercept) 1.926    1.3879       \n",
       "         eff_survey  0.404    0.6356   0.42\n",
       "Number of obs: 2774, groups:  user_id, 136\n",
       "\n",
       "Fixed effects:\n",
       "                                 Estimate Std. Error  z value Pr(>|z|)    \n",
       "(Intercept)                     5.0420812  0.0007252  6952.42   <2e-16 ***\n",
       "experiment_idRandom             0.8879366  0.0007252  1224.39   <2e-16 ***\n",
       "day_index                      -0.1280488  0.0006883  -186.05   <2e-16 ***\n",
       "prior_diary_days               -0.0138202  0.0007252   -19.06   <2e-16 ***\n",
       "eff_survey                      0.4434152  0.0006882   644.30   <2e-16 ***\n",
       "gendermale                     -0.9368605  0.0007355 -1273.84   <2e-16 ***\n",
       "age                             0.0501995  0.0006895    72.81   <2e-16 ***\n",
       "experiment_idRandom:day_index   0.0718130  0.0006883   104.33   <2e-16 ***\n",
       "experiment_idRandom:gendermale  1.6246959  0.0007121  2281.52   <2e-16 ***\n",
       "experiment_idRandom:age        -0.0976441  0.0006894  -141.65   <2e-16 ***\n",
       "---\n",
       "Signif. codes:  0 ‘***’ 0.001 ‘**’ 0.01 ‘*’ 0.05 ‘.’ 0.1 ‘ ’ 1\n",
       "\n",
       "Correlation of Fixed Effects:\n",
       "                 (Intr) expr_R dy_ndx prr_d_ eff_sr gndrml age    ex_R:_\n",
       "exprmnt_dRn      -0.200                                                 \n",
       "day_index         0.000  0.000                                          \n",
       "prr_dry_dys      -0.200 -0.200  0.000                                   \n",
       "eff_survey        0.000  0.000  0.000  0.000                            \n",
       "gendermale        0.000  0.000  0.000  0.000  0.000                     \n",
       "age               0.000  0.000  0.000  0.000  0.000  0.000              \n",
       "exprmnt_R:_       0.000  0.000 -0.001  0.000  0.000  0.000  0.000       \n",
       "exprmnt_dRndm:gn  0.000  0.000  0.000  0.000  0.000 -0.258  0.000  0.000\n",
       "expermnt_dRndm:g  0.000  0.000  0.001  0.000  0.000  0.000  0.001  0.000\n",
       "                 exprmnt_dRndm:gn\n",
       "exprmnt_dRn                      \n",
       "day_index                        \n",
       "prr_dry_dys                      \n",
       "eff_survey                       \n",
       "gendermale                       \n",
       "age                              \n",
       "exprmnt_R:_                      \n",
       "exprmnt_dRndm:gn                 \n",
       "expermnt_dRndm:g  0.000          \n",
       "convergence code: 0\n",
       "Model failed to converge with max|grad| = 0.109448 (tol = 0.001, component 1)\n",
       "Model is nearly unidentifiable: very large eigenvalue\n",
       " - Rescale variables?\n"
      ]
     },
     "metadata": {},
     "output_type": "display_data"
    },
    {
     "data": {
      "text/html": [
       "<table>\n",
       "<thead><tr><th></th><th scope=col>Estimate</th><th scope=col>Std. Error</th><th scope=col>z value</th><th scope=col>Pr(&gt;|z|)</th></tr></thead>\n",
       "<tbody>\n",
       "\t<tr><th scope=row>(Intercept)</th><td> 5.04208124 </td><td>0.0007252272</td><td> 6952.41633 </td><td>0.000000e+00</td></tr>\n",
       "\t<tr><th scope=row>experiment_idRandom</th><td> 0.88793664 </td><td>0.0007252056</td><td> 1224.39291 </td><td>0.000000e+00</td></tr>\n",
       "\t<tr><th scope=row>day_index</th><td>-0.12804884 </td><td>0.0006882524</td><td> -186.04925 </td><td>0.000000e+00</td></tr>\n",
       "\t<tr><th scope=row>prior_diary_days</th><td>-0.01382019 </td><td>0.0007252204</td><td>  -19.05654 </td><td>5.798873e-81</td></tr>\n",
       "\t<tr><th scope=row>eff_survey</th><td> 0.44341523 </td><td>0.0006882144</td><td>  644.29810 </td><td>0.000000e+00</td></tr>\n",
       "\t<tr><th scope=row>gendermale</th><td>-0.93686052 </td><td>0.0007354612</td><td>-1273.84080 </td><td>0.000000e+00</td></tr>\n",
       "\t<tr><th scope=row>age</th><td> 0.05019953 </td><td>0.0006894548</td><td>   72.81047 </td><td>0.000000e+00</td></tr>\n",
       "\t<tr><th scope=row>experiment_idRandom:day_index</th><td> 0.07181297 </td><td>0.0006882973</td><td>  104.33423 </td><td>0.000000e+00</td></tr>\n",
       "\t<tr><th scope=row>experiment_idRandom:gendermale</th><td> 1.62469586 </td><td>0.0007121111</td><td> 2281.52028 </td><td>0.000000e+00</td></tr>\n",
       "\t<tr><th scope=row>experiment_idRandom:age</th><td>-0.09764406 </td><td>0.0006893562</td><td> -141.64530 </td><td>0.000000e+00</td></tr>\n",
       "</tbody>\n",
       "</table>\n"
      ],
      "text/latex": [
       "\\begin{tabular}{r|llll}\n",
       "  & Estimate & Std. Error & z value & Pr(>\\textbar{}z\\textbar{})\\\\\n",
       "\\hline\n",
       "\t(Intercept) &  5.04208124  & 0.0007252272 &  6952.41633  & 0.000000e+00\\\\\n",
       "\texperiment\\_idRandom &  0.88793664  & 0.0007252056 &  1224.39291  & 0.000000e+00\\\\\n",
       "\tday\\_index & -0.12804884  & 0.0006882524 &  -186.04925  & 0.000000e+00\\\\\n",
       "\tprior\\_diary\\_days & -0.01382019  & 0.0007252204 &   -19.05654  & 5.798873e-81\\\\\n",
       "\teff\\_survey &  0.44341523  & 0.0006882144 &   644.29810  & 0.000000e+00\\\\\n",
       "\tgendermale & -0.93686052  & 0.0007354612 & -1273.84080  & 0.000000e+00\\\\\n",
       "\tage &  0.05019953  & 0.0006894548 &    72.81047  & 0.000000e+00\\\\\n",
       "\texperiment\\_idRandom:day\\_index &  0.07181297  & 0.0006882973 &   104.33423  & 0.000000e+00\\\\\n",
       "\texperiment\\_idRandom:gendermale &  1.62469586  & 0.0007121111 &  2281.52028  & 0.000000e+00\\\\\n",
       "\texperiment\\_idRandom:age & -0.09764406  & 0.0006893562 &  -141.64530  & 0.000000e+00\\\\\n",
       "\\end{tabular}\n"
      ],
      "text/markdown": [
       "\n",
       "| <!--/--> | Estimate | Std. Error | z value | Pr(>|z|) | \n",
       "|---|---|---|---|---|---|---|---|---|---|\n",
       "| (Intercept) |  5.04208124  | 0.0007252272 |  6952.41633  | 0.000000e+00 | \n",
       "| experiment_idRandom |  0.88793664  | 0.0007252056 |  1224.39291  | 0.000000e+00 | \n",
       "| day_index | -0.12804884  | 0.0006882524 |  -186.04925  | 0.000000e+00 | \n",
       "| prior_diary_days | -0.01382019  | 0.0007252204 |   -19.05654  | 5.798873e-81 | \n",
       "| eff_survey |  0.44341523  | 0.0006882144 |   644.29810  | 0.000000e+00 | \n",
       "| gendermale | -0.93686052  | 0.0007354612 | -1273.84080  | 0.000000e+00 | \n",
       "| age |  0.05019953  | 0.0006894548 |    72.81047  | 0.000000e+00 | \n",
       "| experiment_idRandom:day_index |  0.07181297  | 0.0006882973 |   104.33423  | 0.000000e+00 | \n",
       "| experiment_idRandom:gendermale |  1.62469586  | 0.0007121111 |  2281.52028  | 0.000000e+00 | \n",
       "| experiment_idRandom:age | -0.09764406  | 0.0006893562 |  -141.64530  | 0.000000e+00 | \n",
       "\n",
       "\n"
      ],
      "text/plain": [
       "                               Estimate    Std. Error   z value    \n",
       "(Intercept)                     5.04208124 0.0007252272  6952.41633\n",
       "experiment_idRandom             0.88793664 0.0007252056  1224.39291\n",
       "day_index                      -0.12804884 0.0006882524  -186.04925\n",
       "prior_diary_days               -0.01382019 0.0007252204   -19.05654\n",
       "eff_survey                      0.44341523 0.0006882144   644.29810\n",
       "gendermale                     -0.93686052 0.0007354612 -1273.84080\n",
       "age                             0.05019953 0.0006894548    72.81047\n",
       "experiment_idRandom:day_index   0.07181297 0.0006882973   104.33423\n",
       "experiment_idRandom:gendermale  1.62469586 0.0007121111  2281.52028\n",
       "experiment_idRandom:age        -0.09764406 0.0006893562  -141.64530\n",
       "                               Pr(>|z|)    \n",
       "(Intercept)                    0.000000e+00\n",
       "experiment_idRandom            0.000000e+00\n",
       "day_index                      0.000000e+00\n",
       "prior_diary_days               5.798873e-81\n",
       "eff_survey                     0.000000e+00\n",
       "gendermale                     0.000000e+00\n",
       "age                            0.000000e+00\n",
       "experiment_idRandom:day_index  0.000000e+00\n",
       "experiment_idRandom:gendermale 0.000000e+00\n",
       "experiment_idRandom:age        0.000000e+00"
      ]
     },
     "metadata": {},
     "output_type": "display_data"
    }
   ],
   "source": [
    "summary(mitt.1.m.7)\n",
    "summary(mitt.1.m.7)$coefficients"
   ]
  },
  {
   "cell_type": "code",
   "execution_count": 26,
   "metadata": {},
   "outputs": [
    {
     "data": {
      "text/plain": [
       "Generalized linear mixed model fit by maximum likelihood (Laplace\n",
       "  Approximation) [glmerMod]\n",
       " Family: binomial  ( logit )\n",
       "Formula: \n",
       "complete_flag ~ experiment_id + experiment_id:day_index + experiment_id:gender +  \n",
       "    experiment_id:age + experiment_id:grit + day_index + prior_diary_days +  \n",
       "    eff_survey + gender + age + grit + (1 + eff_survey | user_id)\n",
       "   Data: df\n",
       "Control: glmerControl(optimizer = \"bobyqa\", optCtrl = list(maxfun = 1e+06))\n",
       "\n",
       "     AIC      BIC   logLik deviance df.resid \n",
       "   706.6    795.5   -338.3    676.6     2759 \n",
       "\n",
       "Scaled residuals: \n",
       "     Min       1Q   Median       3Q      Max \n",
       "-15.1197   0.0141   0.0294   0.0834   1.9921 \n",
       "\n",
       "Random effects:\n",
       " Groups  Name        Variance Std.Dev. Corr\n",
       " user_id (Intercept) 3.028    1.740        \n",
       "         eff_survey  1.312    1.145    0.16\n",
       "Number of obs: 2774, groups:  user_id, 136\n",
       "\n",
       "Fixed effects:\n",
       "                                Estimate Std. Error z value Pr(>|z|)    \n",
       "(Intercept)                     5.637148   4.937280   1.142   0.2536    \n",
       "experiment_idRandom            -0.704581   6.197156  -0.114   0.9095    \n",
       "day_index                      -0.134688   0.029249  -4.605 4.13e-06 ***\n",
       "prior_diary_days               -0.040225   0.074245  -0.542   0.5880    \n",
       "eff_survey                      1.140242   0.568171   2.007   0.0448 *  \n",
       "gendermale                     -1.249300   1.515570  -0.824   0.4098    \n",
       "age                             0.009537   0.094043   0.101   0.9192    \n",
       "grit                            0.052289   1.139456   0.046   0.9634    \n",
       "experiment_idRandom:day_index   0.069857   0.034211   2.042   0.0412 *  \n",
       "experiment_idRandom:gendermale  2.327695   1.844780   1.262   0.2070    \n",
       "experiment_idRandom:age        -0.099399   0.115397  -0.861   0.3890    \n",
       "experiment_idRandom:grit        0.529691   1.487058   0.356   0.7217    \n",
       "---\n",
       "Signif. codes:  0 ‘***’ 0.001 ‘**’ 0.01 ‘*’ 0.05 ‘.’ 0.1 ‘ ’ 1\n",
       "\n",
       "Correlation of Fixed Effects:\n",
       "                 (Intr) expr_R dy_ndx prr_d_ eff_sr gndrml age    grit   ex_R:_\n",
       "exprmnt_dRn      -0.789                                                        \n",
       "day_index        -0.143  0.100                                                 \n",
       "prr_dry_dys      -0.072  0.059  0.007                                          \n",
       "eff_survey        0.029 -0.191 -0.028 -0.210                                   \n",
       "gendermale       -0.307  0.168  0.068 -0.070  0.350                            \n",
       "age              -0.722  0.633 -0.048  0.085 -0.315  0.025                     \n",
       "grit             -0.848  0.702  0.051  0.047 -0.146  0.180  0.398              \n",
       "exprmnt_R:_       0.107 -0.123 -0.835  0.013 -0.007 -0.052  0.045 -0.038       \n",
       "exprmnt_dRndm:gn  0.263 -0.263 -0.034 -0.060 -0.218 -0.764 -0.046 -0.180  0.029\n",
       "expermnt_dRndm:g  0.586 -0.726  0.031 -0.062  0.166 -0.067 -0.787 -0.302  0.001\n",
       "exprmnt_dRndm:gr  0.656 -0.841 -0.036 -0.020  0.147 -0.119 -0.317 -0.779  0.023\n",
       "                 exprmnt_dRndm:gn expermnt_dRndm:g\n",
       "exprmnt_dRn                                       \n",
       "day_index                                         \n",
       "prr_dry_dys                                       \n",
       "eff_survey                                        \n",
       "gendermale                                        \n",
       "age                                               \n",
       "grit                                              \n",
       "exprmnt_R:_                                       \n",
       "exprmnt_dRndm:gn                                  \n",
       "expermnt_dRndm:g  0.042                           \n",
       "exprmnt_dRndm:gr  0.252            0.278          "
      ]
     },
     "metadata": {},
     "output_type": "display_data"
    },
    {
     "data": {
      "text/html": [
       "<table>\n",
       "<thead><tr><th></th><th scope=col>Estimate</th><th scope=col>Std. Error</th><th scope=col>z value</th><th scope=col>Pr(&gt;|z|)</th></tr></thead>\n",
       "<tbody>\n",
       "\t<tr><th scope=row>(Intercept)</th><td> 5.637148357</td><td>4.93728009  </td><td> 1.14175179 </td><td>2.535572e-01</td></tr>\n",
       "\t<tr><th scope=row>experiment_idRandom</th><td>-0.704581480</td><td>6.19715565  </td><td>-0.11369433 </td><td>9.094801e-01</td></tr>\n",
       "\t<tr><th scope=row>day_index</th><td>-0.134687622</td><td>0.02924938  </td><td>-4.60480215 </td><td>4.128582e-06</td></tr>\n",
       "\t<tr><th scope=row>prior_diary_days</th><td>-0.040224925</td><td>0.07424549  </td><td>-0.54178276 </td><td>5.879682e-01</td></tr>\n",
       "\t<tr><th scope=row>eff_survey</th><td> 1.140241960</td><td>0.56817109  </td><td> 2.00686374 </td><td>4.476417e-02</td></tr>\n",
       "\t<tr><th scope=row>gendermale</th><td>-1.249300247</td><td>1.51557037  </td><td>-0.82431029 </td><td>4.097633e-01</td></tr>\n",
       "\t<tr><th scope=row>age</th><td> 0.009537399</td><td>0.09404349  </td><td> 0.10141477 </td><td>9.192212e-01</td></tr>\n",
       "\t<tr><th scope=row>grit</th><td> 0.052288535</td><td>1.13945604  </td><td> 0.04588903 </td><td>9.633987e-01</td></tr>\n",
       "\t<tr><th scope=row>experiment_idRandom:day_index</th><td> 0.069857483</td><td>0.03421096  </td><td> 2.04196225 </td><td>4.115528e-02</td></tr>\n",
       "\t<tr><th scope=row>experiment_idRandom:gendermale</th><td> 2.327694746</td><td>1.84477957  </td><td> 1.26177392 </td><td>2.070301e-01</td></tr>\n",
       "\t<tr><th scope=row>experiment_idRandom:age</th><td>-0.099398875</td><td>0.11539741  </td><td>-0.86136140 </td><td>3.890390e-01</td></tr>\n",
       "\t<tr><th scope=row>experiment_idRandom:grit</th><td> 0.529690660</td><td>1.48705755  </td><td> 0.35620051 </td><td>7.216904e-01</td></tr>\n",
       "</tbody>\n",
       "</table>\n"
      ],
      "text/latex": [
       "\\begin{tabular}{r|llll}\n",
       "  & Estimate & Std. Error & z value & Pr(>\\textbar{}z\\textbar{})\\\\\n",
       "\\hline\n",
       "\t(Intercept) &  5.637148357 & 4.93728009   &  1.14175179  & 2.535572e-01\\\\\n",
       "\texperiment\\_idRandom & -0.704581480 & 6.19715565   & -0.11369433  & 9.094801e-01\\\\\n",
       "\tday\\_index & -0.134687622 & 0.02924938   & -4.60480215  & 4.128582e-06\\\\\n",
       "\tprior\\_diary\\_days & -0.040224925 & 0.07424549   & -0.54178276  & 5.879682e-01\\\\\n",
       "\teff\\_survey &  1.140241960 & 0.56817109   &  2.00686374  & 4.476417e-02\\\\\n",
       "\tgendermale & -1.249300247 & 1.51557037   & -0.82431029  & 4.097633e-01\\\\\n",
       "\tage &  0.009537399 & 0.09404349   &  0.10141477  & 9.192212e-01\\\\\n",
       "\tgrit &  0.052288535 & 1.13945604   &  0.04588903  & 9.633987e-01\\\\\n",
       "\texperiment\\_idRandom:day\\_index &  0.069857483 & 0.03421096   &  2.04196225  & 4.115528e-02\\\\\n",
       "\texperiment\\_idRandom:gendermale &  2.327694746 & 1.84477957   &  1.26177392  & 2.070301e-01\\\\\n",
       "\texperiment\\_idRandom:age & -0.099398875 & 0.11539741   & -0.86136140  & 3.890390e-01\\\\\n",
       "\texperiment\\_idRandom:grit &  0.529690660 & 1.48705755   &  0.35620051  & 7.216904e-01\\\\\n",
       "\\end{tabular}\n"
      ],
      "text/markdown": [
       "\n",
       "| <!--/--> | Estimate | Std. Error | z value | Pr(>|z|) | \n",
       "|---|---|---|---|---|---|---|---|---|---|---|---|\n",
       "| (Intercept) |  5.637148357 | 4.93728009   |  1.14175179  | 2.535572e-01 | \n",
       "| experiment_idRandom | -0.704581480 | 6.19715565   | -0.11369433  | 9.094801e-01 | \n",
       "| day_index | -0.134687622 | 0.02924938   | -4.60480215  | 4.128582e-06 | \n",
       "| prior_diary_days | -0.040224925 | 0.07424549   | -0.54178276  | 5.879682e-01 | \n",
       "| eff_survey |  1.140241960 | 0.56817109   |  2.00686374  | 4.476417e-02 | \n",
       "| gendermale | -1.249300247 | 1.51557037   | -0.82431029  | 4.097633e-01 | \n",
       "| age |  0.009537399 | 0.09404349   |  0.10141477  | 9.192212e-01 | \n",
       "| grit |  0.052288535 | 1.13945604   |  0.04588903  | 9.633987e-01 | \n",
       "| experiment_idRandom:day_index |  0.069857483 | 0.03421096   |  2.04196225  | 4.115528e-02 | \n",
       "| experiment_idRandom:gendermale |  2.327694746 | 1.84477957   |  1.26177392  | 2.070301e-01 | \n",
       "| experiment_idRandom:age | -0.099398875 | 0.11539741   | -0.86136140  | 3.890390e-01 | \n",
       "| experiment_idRandom:grit |  0.529690660 | 1.48705755   |  0.35620051  | 7.216904e-01 | \n",
       "\n",
       "\n"
      ],
      "text/plain": [
       "                               Estimate     Std. Error z value     Pr(>|z|)    \n",
       "(Intercept)                     5.637148357 4.93728009  1.14175179 2.535572e-01\n",
       "experiment_idRandom            -0.704581480 6.19715565 -0.11369433 9.094801e-01\n",
       "day_index                      -0.134687622 0.02924938 -4.60480215 4.128582e-06\n",
       "prior_diary_days               -0.040224925 0.07424549 -0.54178276 5.879682e-01\n",
       "eff_survey                      1.140241960 0.56817109  2.00686374 4.476417e-02\n",
       "gendermale                     -1.249300247 1.51557037 -0.82431029 4.097633e-01\n",
       "age                             0.009537399 0.09404349  0.10141477 9.192212e-01\n",
       "grit                            0.052288535 1.13945604  0.04588903 9.633987e-01\n",
       "experiment_idRandom:day_index   0.069857483 0.03421096  2.04196225 4.115528e-02\n",
       "experiment_idRandom:gendermale  2.327694746 1.84477957  1.26177392 2.070301e-01\n",
       "experiment_idRandom:age        -0.099398875 0.11539741 -0.86136140 3.890390e-01\n",
       "experiment_idRandom:grit        0.529690660 1.48705755  0.35620051 7.216904e-01"
      ]
     },
     "metadata": {},
     "output_type": "display_data"
    }
   ],
   "source": [
    "summary(mitt.1.m.8)\n",
    "summary(mitt.1.m.8)$coefficients"
   ]
  },
  {
   "cell_type": "markdown",
   "metadata": {},
   "source": [
    "## 5. Pre-/post-intervention food logging statistics\n",
    "\n",
    "Section 6.3 in the paper."
   ]
  },
  {
   "cell_type": "code",
   "execution_count": 27,
   "metadata": {},
   "outputs": [
    {
     "data": {
      "text/html": [
       "<table>\n",
       "<thead><tr><th scope=col>experiment_id</th><th scope=col>count</th></tr></thead>\n",
       "<tbody>\n",
       "\t<tr><td>Fixed </td><td>12    </td></tr>\n",
       "\t<tr><td>Random</td><td>13    </td></tr>\n",
       "</tbody>\n",
       "</table>\n"
      ],
      "text/latex": [
       "\\begin{tabular}{r|ll}\n",
       " experiment\\_id & count\\\\\n",
       "\\hline\n",
       "\t Fixed  & 12    \\\\\n",
       "\t Random & 13    \\\\\n",
       "\\end{tabular}\n"
      ],
      "text/markdown": [
       "\n",
       "experiment_id | count | \n",
       "|---|---|\n",
       "| Fixed  | 12     | \n",
       "| Random | 13     | \n",
       "\n",
       "\n"
      ],
      "text/plain": [
       "  experiment_id count\n",
       "1 Fixed         12   \n",
       "2 Random        13   "
      ]
     },
     "metadata": {},
     "output_type": "display_data"
    },
    {
     "data": {
      "text/html": [
       "<table>\n",
       "<thead><tr><th scope=col>experiment_id</th><th scope=col>count</th></tr></thead>\n",
       "<tbody>\n",
       "\t<tr><td>Fixed </td><td>19    </td></tr>\n",
       "\t<tr><td>Random</td><td>21    </td></tr>\n",
       "</tbody>\n",
       "</table>\n"
      ],
      "text/latex": [
       "\\begin{tabular}{r|ll}\n",
       " experiment\\_id & count\\\\\n",
       "\\hline\n",
       "\t Fixed  & 19    \\\\\n",
       "\t Random & 21    \\\\\n",
       "\\end{tabular}\n"
      ],
      "text/markdown": [
       "\n",
       "experiment_id | count | \n",
       "|---|---|\n",
       "| Fixed  | 19     | \n",
       "| Random | 21     | \n",
       "\n",
       "\n"
      ],
      "text/plain": [
       "  experiment_id count\n",
       "1 Fixed         19   \n",
       "2 Random        21   "
      ]
     },
     "metadata": {},
     "output_type": "display_data"
    },
    {
     "data": {
      "text/html": [
       "<table>\n",
       "<thead><tr><th scope=col>experiment_id</th><th scope=col>count</th></tr></thead>\n",
       "<tbody>\n",
       "\t<tr><td>Fixed </td><td>7     </td></tr>\n",
       "\t<tr><td>Random</td><td>5     </td></tr>\n",
       "</tbody>\n",
       "</table>\n"
      ],
      "text/latex": [
       "\\begin{tabular}{r|ll}\n",
       " experiment\\_id & count\\\\\n",
       "\\hline\n",
       "\t Fixed  & 7     \\\\\n",
       "\t Random & 5     \\\\\n",
       "\\end{tabular}\n"
      ],
      "text/markdown": [
       "\n",
       "experiment_id | count | \n",
       "|---|---|\n",
       "| Fixed  | 7      | \n",
       "| Random | 5      | \n",
       "\n",
       "\n"
      ],
      "text/plain": [
       "  experiment_id count\n",
       "1 Fixed         7    \n",
       "2 Random        5    "
      ]
     },
     "metadata": {},
     "output_type": "display_data"
    },
    {
     "data": {
      "text/html": [
       "<table>\n",
       "<thead><tr><th scope=col>experiment_id</th><th scope=col>count</th></tr></thead>\n",
       "<tbody>\n",
       "\t<tr><td>Fixed </td><td>10    </td></tr>\n",
       "\t<tr><td>Random</td><td> 9    </td></tr>\n",
       "</tbody>\n",
       "</table>\n"
      ],
      "text/latex": [
       "\\begin{tabular}{r|ll}\n",
       " experiment\\_id & count\\\\\n",
       "\\hline\n",
       "\t Fixed  & 10    \\\\\n",
       "\t Random &  9    \\\\\n",
       "\\end{tabular}\n"
      ],
      "text/markdown": [
       "\n",
       "experiment_id | count | \n",
       "|---|---|\n",
       "| Fixed  | 10     | \n",
       "| Random |  9     | \n",
       "\n",
       "\n"
      ],
      "text/plain": [
       "  experiment_id count\n",
       "1 Fixed         10   \n",
       "2 Random         9   "
      ]
     },
     "metadata": {},
     "output_type": "display_data"
    },
    {
     "data": {
      "text/html": [
       "<table>\n",
       "<thead><tr><th scope=col>mean_pre</th><th scope=col>mean_post</th><th scope=col>sd_pre</th><th scope=col>sd_post</th></tr></thead>\n",
       "<tbody>\n",
       "\t<tr><td>1.302041</td><td>2.285714</td><td>4.296228</td><td>6.6782  </td></tr>\n",
       "</tbody>\n",
       "</table>\n"
      ],
      "text/latex": [
       "\\begin{tabular}{r|llll}\n",
       " mean\\_pre & mean\\_post & sd\\_pre & sd\\_post\\\\\n",
       "\\hline\n",
       "\t 1.302041 & 2.285714 & 4.296228 & 6.6782  \\\\\n",
       "\\end{tabular}\n"
      ],
      "text/markdown": [
       "\n",
       "mean_pre | mean_post | sd_pre | sd_post | \n",
       "|---|\n",
       "| 1.302041 | 2.285714 | 4.296228 | 6.6782   | \n",
       "\n",
       "\n"
      ],
      "text/plain": [
       "  mean_pre mean_post sd_pre   sd_post\n",
       "1 1.302041 2.285714  4.296228 6.6782 "
      ]
     },
     "metadata": {},
     "output_type": "display_data"
    },
    {
     "data": {
      "text/html": [
       "<table>\n",
       "<thead><tr><th scope=col>experiment_id</th><th scope=col>mean_pre</th><th scope=col>mean_post</th><th scope=col>median_pre</th><th scope=col>median_post</th><th scope=col>sd_pre</th><th scope=col>sd_post</th><th scope=col>max_pre</th><th scope=col>max_post</th></tr></thead>\n",
       "<tbody>\n",
       "\t<tr><td>Fixed   </td><td>1.527273</td><td>2.836364</td><td>0       </td><td>0       </td><td>4.809603</td><td>7.805582</td><td>30      </td><td>30      </td></tr>\n",
       "\t<tr><td>Random  </td><td>1.118519</td><td>1.837037</td><td>0       </td><td>0       </td><td>3.836299</td><td>5.585439</td><td>30      </td><td>30      </td></tr>\n",
       "</tbody>\n",
       "</table>\n"
      ],
      "text/latex": [
       "\\begin{tabular}{r|lllllllll}\n",
       " experiment\\_id & mean\\_pre & mean\\_post & median\\_pre & median\\_post & sd\\_pre & sd\\_post & max\\_pre & max\\_post\\\\\n",
       "\\hline\n",
       "\t Fixed    & 1.527273 & 2.836364 & 0        & 0        & 4.809603 & 7.805582 & 30       & 30      \\\\\n",
       "\t Random   & 1.118519 & 1.837037 & 0        & 0        & 3.836299 & 5.585439 & 30       & 30      \\\\\n",
       "\\end{tabular}\n"
      ],
      "text/markdown": [
       "\n",
       "experiment_id | mean_pre | mean_post | median_pre | median_post | sd_pre | sd_post | max_pre | max_post | \n",
       "|---|---|\n",
       "| Fixed    | 1.527273 | 2.836364 | 0        | 0        | 4.809603 | 7.805582 | 30       | 30       | \n",
       "| Random   | 1.118519 | 1.837037 | 0        | 0        | 3.836299 | 5.585439 | 30       | 30       | \n",
       "\n",
       "\n"
      ],
      "text/plain": [
       "  experiment_id mean_pre mean_post median_pre median_post sd_pre   sd_post \n",
       "1 Fixed         1.527273 2.836364  0          0           4.809603 7.805582\n",
       "2 Random        1.118519 1.837037  0          0           3.836299 5.585439\n",
       "  max_pre max_post\n",
       "1 30      30      \n",
       "2 30      30      "
      ]
     },
     "metadata": {},
     "output_type": "display_data"
    },
    {
     "data": {
      "text/html": [
       "<table>\n",
       "<thead><tr><th scope=col>experiment_id</th><th scope=col>count</th></tr></thead>\n",
       "<tbody>\n",
       "\t<tr><td>Fixed </td><td>13    </td></tr>\n",
       "\t<tr><td>Random</td><td>12    </td></tr>\n",
       "</tbody>\n",
       "</table>\n"
      ],
      "text/latex": [
       "\\begin{tabular}{r|ll}\n",
       " experiment\\_id & count\\\\\n",
       "\\hline\n",
       "\t Fixed  & 13    \\\\\n",
       "\t Random & 12    \\\\\n",
       "\\end{tabular}\n"
      ],
      "text/markdown": [
       "\n",
       "experiment_id | count | \n",
       "|---|---|\n",
       "| Fixed  | 13     | \n",
       "| Random | 12     | \n",
       "\n",
       "\n"
      ],
      "text/plain": [
       "  experiment_id count\n",
       "1 Fixed         13   \n",
       "2 Random        12   "
      ]
     },
     "metadata": {},
     "output_type": "display_data"
    },
    {
     "data": {
      "text/html": [
       "<table>\n",
       "<thead><tr><th scope=col>experiment_id</th><th scope=col>count</th></tr></thead>\n",
       "<tbody>\n",
       "\t<tr><td>Fixed </td><td>6     </td></tr>\n",
       "\t<tr><td>Random</td><td>2     </td></tr>\n",
       "</tbody>\n",
       "</table>\n"
      ],
      "text/latex": [
       "\\begin{tabular}{r|ll}\n",
       " experiment\\_id & count\\\\\n",
       "\\hline\n",
       "\t Fixed  & 6     \\\\\n",
       "\t Random & 2     \\\\\n",
       "\\end{tabular}\n"
      ],
      "text/markdown": [
       "\n",
       "experiment_id | count | \n",
       "|---|---|\n",
       "| Fixed  | 6      | \n",
       "| Random | 2      | \n",
       "\n",
       "\n"
      ],
      "text/plain": [
       "  experiment_id count\n",
       "1 Fixed         6    \n",
       "2 Random        2    "
      ]
     },
     "metadata": {},
     "output_type": "display_data"
    },
    {
     "data": {
      "text/html": [
       "<table>\n",
       "<thead><tr><th scope=col>experiment_id</th><th scope=col>count</th></tr></thead>\n",
       "<tbody>\n",
       "\t<tr><td>Fixed </td><td>6     </td></tr>\n",
       "\t<tr><td>Random</td><td>4     </td></tr>\n",
       "</tbody>\n",
       "</table>\n"
      ],
      "text/latex": [
       "\\begin{tabular}{r|ll}\n",
       " experiment\\_id & count\\\\\n",
       "\\hline\n",
       "\t Fixed  & 6     \\\\\n",
       "\t Random & 4     \\\\\n",
       "\\end{tabular}\n"
      ],
      "text/markdown": [
       "\n",
       "experiment_id | count | \n",
       "|---|---|\n",
       "| Fixed  | 6      | \n",
       "| Random | 4      | \n",
       "\n",
       "\n"
      ],
      "text/plain": [
       "  experiment_id count\n",
       "1 Fixed         6    \n",
       "2 Random        4    "
      ]
     },
     "metadata": {},
     "output_type": "display_data"
    }
   ],
   "source": [
    "# For all participants\n",
    "df <- merge(pre_diary_df, post_diary_df)\n",
    "df <- merge(users_df, df, all=TRUE)\n",
    "df <- merge(df, demos_df, all=TRUE)\n",
    "df[is.na(df)] <- 0\n",
    "\n",
    "# User stats\n",
    "summarize(group_by(filter(df, prior_diary_days>1), experiment_id), count=n_distinct(user_id))\n",
    "summarize(group_by(filter(df, post_diary_days>1), experiment_id), count=n_distinct(user_id))\n",
    "summarize(group_by(filter(df, prior_diary_days>=7), experiment_id), count=n_distinct(user_id))\n",
    "summarize(group_by(filter(df, post_diary_days>=7), experiment_id), count=n_distinct(user_id))\n",
    "\n",
    "# diary days\n",
    "summarize(df, mean_pre=mean(prior_diary_days), mean_post=mean(post_diary_days), \n",
    "          sd_pre=sd(prior_diary_days), sd_post=sd(post_diary_days))\n",
    "\n",
    "summarize(group_by(df, experiment_id), mean_pre=mean(prior_diary_days), mean_post=mean(post_diary_days),\n",
    "         median_pre=median(prior_diary_days), median_post=median(post_diary_days),\n",
    "         sd_pre=sd(prior_diary_days), sd_post=sd(post_diary_days),\n",
    "         max_pre=max(prior_diary_days), max_post=max(post_diary_days))\n",
    "\n",
    "# Number of users who continue to log food diary after the experiment who has not done it before\n",
    "summarize(group_by(filter(df, prior_diary_days<=1, post_diary_days>1), experiment_id), count=n_distinct(user_id))\n",
    "\n",
    "# Those newbies who continue to log 7 days or more of food diary\n",
    "summarize(group_by(filter(df, prior_diary_days<=1, post_diary_days>=7), experiment_id), count=n_distinct(user_id))\n",
    "\n",
    "# Those who log pre-study, but stop after\n",
    "summarize(group_by(filter(df, prior_diary_days>1, post_diary_days<=1), experiment_id), count=n_distinct(user_id))"
   ]
  },
  {
   "cell_type": "markdown",
   "metadata": {},
   "source": [
    "### Test of equal proportions\n",
    "\n",
    "There is a significantly larger number of food loggers during the post-intervention than the pre-intervention phases (40 vs. 25; $\\chi^2$=3.991). Others are not significant."
   ]
  },
  {
   "cell_type": "code",
   "execution_count": 28,
   "metadata": {},
   "outputs": [
    {
     "data": {
      "text/plain": [
       "\n",
       "\t2-sample test for equality of proportions without continuity\n",
       "\tcorrection\n",
       "\n",
       "data:  c(25, 40) out of c(245, 245)\n",
       "X-squared = 3.991, df = 1, p-value = 0.04575\n",
       "alternative hypothesis: two.sided\n",
       "95 percent confidence interval:\n",
       " -0.121046258 -0.001402721\n",
       "sample estimates:\n",
       "   prop 1    prop 2 \n",
       "0.1020408 0.1632653 \n"
      ]
     },
     "metadata": {},
     "output_type": "display_data"
    },
    {
     "data": {
      "text/plain": [
       "\n",
       "\t2-sample test for equality of proportions without continuity\n",
       "\tcorrection\n",
       "\n",
       "data:  c(13, 21) out of c(135, 135)\n",
       "X-squared = 2.1535, df = 1, p-value = 0.1422\n",
       "alternative hypothesis: two.sided\n",
       "95 percent confidence interval:\n",
       " -0.13808880  0.01957028\n",
       "sample estimates:\n",
       "   prop 1    prop 2 \n",
       "0.0962963 0.1555556 \n"
      ]
     },
     "metadata": {},
     "output_type": "display_data"
    },
    {
     "data": {
      "text/plain": [
       "\n",
       "\t2-sample test for equality of proportions without continuity\n",
       "\tcorrection\n",
       "\n",
       "data:  c(12, 19) out of c(110, 110)\n",
       "X-squared = 1.8399, df = 1, p-value = 0.175\n",
       "alternative hypothesis: two.sided\n",
       "95 percent confidence interval:\n",
       " -0.15520192  0.02792919\n",
       "sample estimates:\n",
       "   prop 1    prop 2 \n",
       "0.1090909 0.1727273 \n"
      ]
     },
     "metadata": {},
     "output_type": "display_data"
    },
    {
     "data": {
      "text/plain": [
       "\n",
       "\t2-sample test for equality of proportions without continuity\n",
       "\tcorrection\n",
       "\n",
       "data:  c(12, 19) out of c(245, 245)\n",
       "X-squared = 1.6874, df = 1, p-value = 0.1939\n",
       "alternative hypothesis: two.sided\n",
       "95 percent confidence interval:\n",
       " -0.07160646  0.01446360\n",
       "sample estimates:\n",
       "    prop 1     prop 2 \n",
       "0.04897959 0.07755102 \n"
      ]
     },
     "metadata": {},
     "output_type": "display_data"
    },
    {
     "data": {
      "text/plain": [
       "\n",
       "\t2-sample test for equality of proportions without continuity\n",
       "\tcorrection\n",
       "\n",
       "data:  c(21, 19) out of c(135, 110)\n",
       "X-squared = 0.13083, df = 1, p-value = 0.7176\n",
       "alternative hypothesis: two.sided\n",
       "95 percent confidence interval:\n",
       " -0.11059532  0.07625189\n",
       "sample estimates:\n",
       "   prop 1    prop 2 \n",
       "0.1555556 0.1727273 \n"
      ]
     },
     "metadata": {},
     "output_type": "display_data"
    },
    {
     "data": {
      "text/plain": [
       "\n",
       "\t2-sample test for equality of proportions without continuity\n",
       "\tcorrection\n",
       "\n",
       "data:  c(9, 10) out of c(135, 110)\n",
       "X-squared = 0.49795, df = 1, p-value = 0.4804\n",
       "alternative hypothesis: two.sided\n",
       "95 percent confidence interval:\n",
       " -0.09248240  0.04399755\n",
       "sample estimates:\n",
       "    prop 1     prop 2 \n",
       "0.06666667 0.09090909 \n"
      ]
     },
     "metadata": {},
     "output_type": "display_data"
    }
   ],
   "source": [
    "prop.test(c(25,40), c(245,245), correct=FALSE) # total food loggers, pre vs. post\n",
    "prop.test(c(13,21), c(135,135), correct=FALSE) # total treatment food loggers, pre vs. post\n",
    "prop.test(c(12,19), c(110,110), correct=FALSE) # total treatment food loggers, pre vs. post\n",
    "prop.test(c(12,19), c(245,245), correct=FALSE) # total active food loggers, pre vs. post\n",
    "prop.test(c(21,19), c(135,110), correct=FALSE) # total food loggers post-intervention, treatment vs. control\n",
    "prop.test(c(9,10), c(135,110), correct=FALSE) # total active food loggers post-intervention, treatment vs. control"
   ]
  },
  {
   "cell_type": "markdown",
   "metadata": {},
   "source": [
    "Within a subset of participants (N=92) who logged their diaries during both periods, there is a significant increase in the average food diary days from the pre-intervention to the post-intervention phases (3.47 versus 6.09; V=1414, p<0.01) but there is no difference between the conditions."
   ]
  },
  {
   "cell_type": "code",
   "execution_count": 29,
   "metadata": {},
   "outputs": [
    {
     "data": {
      "text/plain": [
       "\n",
       "\tWilcoxon signed rank test with continuity correction\n",
       "\n",
       "data:  jitter(df$prior_diary_days) and jitter(df$post_diary_days)\n",
       "V = 12373, p-value = 0.01526\n",
       "alternative hypothesis: true location shift is not equal to 0\n"
      ]
     },
     "metadata": {},
     "output_type": "display_data"
    },
    {
     "data": {
      "text/html": [
       "92"
      ],
      "text/latex": [
       "92"
      ],
      "text/markdown": [
       "92"
      ],
      "text/plain": [
       "[1] 92"
      ]
     },
     "metadata": {},
     "output_type": "display_data"
    },
    {
     "data": {
      "text/html": [
       "<table>\n",
       "<thead><tr><th scope=col>pre</th><th scope=col>post</th></tr></thead>\n",
       "<tbody>\n",
       "\t<tr><td>3.467391</td><td>6.086957</td></tr>\n",
       "</tbody>\n",
       "</table>\n"
      ],
      "text/latex": [
       "\\begin{tabular}{r|ll}\n",
       " pre & post\\\\\n",
       "\\hline\n",
       "\t 3.467391 & 6.086957\\\\\n",
       "\\end{tabular}\n"
      ],
      "text/markdown": [
       "\n",
       "pre | post | \n",
       "|---|\n",
       "| 3.467391 | 6.086957 | \n",
       "\n",
       "\n"
      ],
      "text/plain": [
       "  pre      post    \n",
       "1 3.467391 6.086957"
      ]
     },
     "metadata": {},
     "output_type": "display_data"
    },
    {
     "data": {
      "text/plain": [
       "\n",
       "\tWilcoxon signed rank test with continuity correction\n",
       "\n",
       "data:  jitter(df2$prior_diary_days) and jitter(df2$post_diary_days)\n",
       "V = 1476, p-value = 0.009888\n",
       "alternative hypothesis: true location shift is not equal to 0\n"
      ]
     },
     "metadata": {},
     "output_type": "display_data"
    },
    {
     "data": {
      "text/plain": [
       "\n",
       "\tWilcoxon rank sum test with continuity correction\n",
       "\n",
       "data:  post_diary_days by experiment_id\n",
       "W = 1145, p-value = 0.3622\n",
       "alternative hypothesis: true location shift is not equal to 0\n"
      ]
     },
     "metadata": {},
     "output_type": "display_data"
    }
   ],
   "source": [
    "wilcox.test(jitter(df$prior_diary_days), jitter(df$post_diary_days), paired=TRUE) # diary days, pre vs. post; adding noise to data via jitter to avoid zero differences\n",
    "df2 <- filter(df, prior_diary_days>0, post_diary_days>0)\n",
    "nrow(df2)\n",
    "summarize(df2, pre=mean(prior_diary_days), post=mean(post_diary_days))\n",
    "wilcox.test(jitter(df2$prior_diary_days), jitter(df2$post_diary_days), paired=TRUE) # diary days, pre vs. post, remove inactive users\n",
    "wilcox.test(post_diary_days~experiment_id,df2)"
   ]
  },
  {
   "cell_type": "code",
   "execution_count": 30,
   "metadata": {},
   "outputs": [
    {
     "data": {
      "text/plain": [
       "   user  system elapsed \n",
       "590.079   0.539 302.501 "
      ]
     },
     "metadata": {},
     "output_type": "display_data"
    }
   ],
   "source": [
    "t1 <- proc.time()\n",
    "t1-t0"
   ]
  }
 ],
 "metadata": {
  "kernelspec": {
   "display_name": "R",
   "language": "R",
   "name": "ir"
  },
  "language_info": {
   "codemirror_mode": "r",
   "file_extension": ".r",
   "mimetype": "text/x-r-source",
   "name": "R",
   "pygments_lexer": "r",
   "version": "3.5.1"
  }
 },
 "nbformat": 4,
 "nbformat_minor": 2
}
